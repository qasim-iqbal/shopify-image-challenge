{
 "cells": [
  {
   "cell_type": "code",
   "execution_count": 63,
   "metadata": {},
   "outputs": [],
   "source": [
    "import pandas as pd\n",
    "import numpy as np\n",
    "\n",
    "import kerastuner as kt\n",
    "\n",
    "import pprint\n",
    "\n",
    "import tensorflow as tf\n",
    "import tensorflow_hub as hub\n",
    "import tensorflow.keras.callbacks as callbacks\n",
    "\n",
    "import tensorflow.keras.losses as losses\n",
    "import tensorflow.keras.metrics as metrics\n",
    "import tensorflow.keras.callbacks as callbacks\n",
    "import tensorflow.keras.optimizers as optimizers\n",
    "\n",
    "from tensorflow.keras import layers\n",
    "from tensorflow.keras.models import Sequential\n",
    "\n",
    "import matplotlib.pyplot as plt\n",
    "\n",
    "from PIL import Image\n",
    "from sklearn.model_selection import train_test_split\n",
    "\n",
    "from keras.preprocessing.image import load_img\n",
    "from keras.preprocessing.image import img_to_array\n",
    "from keras.models import load_model\n",
    "\n",
    "from datetime import datetime\n",
    "import time"
   ]
  },
  {
   "cell_type": "code",
   "execution_count": null,
   "metadata": {},
   "outputs": [],
   "source": []
  },
  {
   "cell_type": "code",
   "execution_count": 2,
   "metadata": {},
   "outputs": [],
   "source": [
    "from imblearn.over_sampling import RandomOverSampler"
   ]
  },
  {
   "cell_type": "code",
   "execution_count": null,
   "metadata": {},
   "outputs": [],
   "source": []
  },
  {
   "cell_type": "code",
   "execution_count": 3,
   "metadata": {},
   "outputs": [],
   "source": [
    "dataset_path = \"..\\clothing-dataset\\images.csv\""
   ]
  },
  {
   "cell_type": "code",
   "execution_count": 4,
   "metadata": {},
   "outputs": [],
   "source": [
    "dataset = pd.read_csv(dataset_path)"
   ]
  },
  {
   "cell_type": "code",
   "execution_count": 5,
   "metadata": {},
   "outputs": [],
   "source": [
    "gb_categories = dataset.groupby('label').count()"
   ]
  },
  {
   "cell_type": "code",
   "execution_count": 6,
   "metadata": {},
   "outputs": [
    {
     "data": {
      "text/plain": [
       "<AxesSubplot:xlabel='label'>"
      ]
     },
     "execution_count": 6,
     "metadata": {},
     "output_type": "execute_result"
    },
    {
     "data": {
      "image/png": "[encoded data removed]",
      "text/plain": [
       "<Figure size 432x288 with 1 Axes>"
      ]
     },
     "metadata": {
      "needs_background": "light"
     },
     "output_type": "display_data"
    }
   ],
   "source": [
    "gb_categories.plot.bar()"
   ]
  },
  {
   "cell_type": "code",
   "execution_count": 7,
   "metadata": {},
   "outputs": [
    {
     "data": {
      "text/html": [
       "<div>\n",
       "<style scoped>\n",
       "    .dataframe tbody tr th:only-of-type {\n",
       "        vertical-align: middle;\n",
       "    }\n",
       "\n",
       "    .dataframe tbody tr th {\n",
       "        vertical-align: top;\n",
       "    }\n",
       "\n",
       "    .dataframe thead th {\n",
       "        text-align: right;\n",
       "    }\n",
       "</style>\n",
       "<table border=\"1\" class=\"dataframe\">\n",
       "  <thead>\n",
       "    <tr style=\"text-align: right;\">\n",
       "      <th></th>\n",
       "      <th>image</th>\n",
       "      <th>sender_id</th>\n",
       "      <th>kids</th>\n",
       "    </tr>\n",
       "    <tr>\n",
       "      <th>label</th>\n",
       "      <th></th>\n",
       "      <th></th>\n",
       "      <th></th>\n",
       "    </tr>\n",
       "  </thead>\n",
       "  <tbody>\n",
       "    <tr>\n",
       "      <th>Dress</th>\n",
       "      <td>357</td>\n",
       "      <td>357</td>\n",
       "      <td>357</td>\n",
       "    </tr>\n",
       "    <tr>\n",
       "      <th>Longsleeve</th>\n",
       "      <td>699</td>\n",
       "      <td>699</td>\n",
       "      <td>699</td>\n",
       "    </tr>\n",
       "    <tr>\n",
       "      <th>Not sure</th>\n",
       "      <td>228</td>\n",
       "      <td>228</td>\n",
       "      <td>228</td>\n",
       "    </tr>\n",
       "    <tr>\n",
       "      <th>Outwear</th>\n",
       "      <td>312</td>\n",
       "      <td>312</td>\n",
       "      <td>312</td>\n",
       "    </tr>\n",
       "    <tr>\n",
       "      <th>Pants</th>\n",
       "      <td>692</td>\n",
       "      <td>692</td>\n",
       "      <td>692</td>\n",
       "    </tr>\n",
       "    <tr>\n",
       "      <th>Shirt</th>\n",
       "      <td>378</td>\n",
       "      <td>378</td>\n",
       "      <td>378</td>\n",
       "    </tr>\n",
       "    <tr>\n",
       "      <th>Shoes</th>\n",
       "      <td>431</td>\n",
       "      <td>431</td>\n",
       "      <td>431</td>\n",
       "    </tr>\n",
       "    <tr>\n",
       "      <th>Shorts</th>\n",
       "      <td>308</td>\n",
       "      <td>308</td>\n",
       "      <td>308</td>\n",
       "    </tr>\n",
       "    <tr>\n",
       "      <th>T-Shirt</th>\n",
       "      <td>1011</td>\n",
       "      <td>1011</td>\n",
       "      <td>1011</td>\n",
       "    </tr>\n",
       "  </tbody>\n",
       "</table>\n",
       "</div>"
      ],
      "text/plain": [
       "            image  sender_id  kids\n",
       "label                             \n",
       "Dress         357        357   357\n",
       "Longsleeve    699        699   699\n",
       "Not sure      228        228   228\n",
       "Outwear       312        312   312\n",
       "Pants         692        692   692\n",
       "Shirt         378        378   378\n",
       "Shoes         431        431   431\n",
       "Shorts        308        308   308\n",
       "T-Shirt      1011       1011  1011"
      ]
     },
     "execution_count": 7,
     "metadata": {},
     "output_type": "execute_result"
    }
   ],
   "source": [
    "gb_categories[gb_categories['image'] > 200]"
   ]
  },
  {
   "cell_type": "code",
   "execution_count": 8,
   "metadata": {},
   "outputs": [],
   "source": [
    "dict_labels = {'T-Shirt':0, 'Pants':1, 'Longsleeve':2, 'Dress':3, 'Shoes':4}"
   ]
  },
  {
   "cell_type": "code",
   "execution_count": 9,
   "metadata": {},
   "outputs": [],
   "source": [
    "dataset = dataset.query(f\"label in {[*dict_labels]}\")"
   ]
  },
  {
   "cell_type": "code",
   "execution_count": 10,
   "metadata": {},
   "outputs": [],
   "source": [
    "df_main = dataset[['image','label']]"
   ]
  },
  {
   "cell_type": "code",
   "execution_count": 11,
   "metadata": {},
   "outputs": [
    {
     "name": "stderr",
     "output_type": "stream",
     "text": [
      "C:\\Users\\Qasim\\AppData\\Local\\Temp/ipykernel_2068/445683494.py:1: SettingWithCopyWarning: \n",
      "A value is trying to be set on a copy of a slice from a DataFrame.\n",
      "Try using .loc[row_indexer,col_indexer] = value instead\n",
      "\n",
      "See the caveats in the documentation: https://pandas.pydata.org/pandas-docs/stable/user_guide/indexing.html#returning-a-view-versus-a-copy\n",
      "  df_main['y'] = df_main['label'].replace(dict_labels)\n"
     ]
    }
   ],
   "source": [
    "df_main['y'] = df_main['label'].replace(dict_labels)"
   ]
  },
  {
   "cell_type": "code",
   "execution_count": 12,
   "metadata": {},
   "outputs": [],
   "source": [
    "df_main['img_path'] = df_main['image'].apply(lambda x: f\"../clothing-dataset/images/{x}.jpg\")"
   ]
  },
  {
   "cell_type": "code",
   "execution_count": 13,
   "metadata": {},
   "outputs": [],
   "source": [
    "dataset = []"
   ]
  },
  {
   "cell_type": "code",
   "execution_count": 14,
   "metadata": {},
   "outputs": [],
   "source": [
    "img_w, img_h = 64, 64"
   ]
  },
  {
   "cell_type": "code",
   "execution_count": 15,
   "metadata": {},
   "outputs": [],
   "source": [
    "# load and prepare the image\n",
    "def load_image(filename):\n",
    "\t# load the image\n",
    "\timg = load_img(filename, grayscale=True, target_size=(img_w,img_h))\n",
    "\t# img = load_img(filename, target_size=(64,64,1))\n",
    "\t\n",
    "\t# convert to array\n",
    "\timg = img_to_array(img)\n",
    "\t# reshape into a single sample with 1 channel\n",
    "\timg = img.reshape(img_w, img_h, 1)\n",
    "\t# prepare pixel data\n",
    "\timg = img.astype('float32')\n",
    "\n",
    "\t# img = 255 - img\n",
    "\t# img[img < 20] = 0\n",
    "\timg = img / 255.0\n",
    "\t# img = img.astype(int)\n",
    "\treturn img"
   ]
  },
  {
   "cell_type": "code",
   "execution_count": 16,
   "metadata": {},
   "outputs": [
    {
     "name": "stderr",
     "output_type": "stream",
     "text": [
      "c:\\Users\\Qasim\\anaconda3\\envs\\ai-env\\lib\\site-packages\\keras_preprocessing\\image\\utils.py:107: UserWarning: grayscale is deprecated. Please use color_mode = \"grayscale\"\n",
      "  warnings.warn('grayscale is deprecated. Please use '\n"
     ]
    }
   ],
   "source": [
    "for i,r in df_main.iterrows():\n",
    "    try:\n",
    "        im = load_image(r['img_path'])\n",
    "        dataset.append([im,r['y']])\n",
    "    except:\n",
    "        print(f\"error img -> {r['img_path']}\")"
   ]
  },
  {
   "cell_type": "code",
   "execution_count": null,
   "metadata": {},
   "outputs": [],
   "source": []
  },
  {
   "cell_type": "code",
   "execution_count": 17,
   "metadata": {},
   "outputs": [
    {
     "name": "stderr",
     "output_type": "stream",
     "text": [
      "C:\\Users\\Qasim\\AppData\\Local\\Temp/ipykernel_2068/1525633772.py:1: VisibleDeprecationWarning: Creating an ndarray from ragged nested sequences (which is a list-or-tuple of lists-or-tuples-or ndarrays with different lengths or shapes) is deprecated. If you meant to do this, you must specify 'dtype=object' when creating the ndarray\n",
      "  dataset = np.array(dataset)\n"
     ]
    }
   ],
   "source": [
    "dataset = np.array(dataset)"
   ]
  },
  {
   "cell_type": "code",
   "execution_count": 18,
   "metadata": {},
   "outputs": [
    {
     "data": {
      "text/plain": [
       "(3190, 2)"
      ]
     },
     "execution_count": 18,
     "metadata": {},
     "output_type": "execute_result"
    }
   ],
   "source": [
    "dataset.shape"
   ]
  },
  {
   "cell_type": "code",
   "execution_count": 19,
   "metadata": {},
   "outputs": [],
   "source": [
    "# conver to right data type as errors show up for incorrect type in model building\n",
    "X = np.stack(dataset[:,0]).astype('float32')\n",
    "y = dataset[:,1].astype('uint8')"
   ]
  },
  {
   "cell_type": "code",
   "execution_count": 20,
   "metadata": {},
   "outputs": [],
   "source": [
    "\n",
    "reshaped_X = X.reshape(X.shape[0],-1)\n",
    "\n",
    "#oversampling\n",
    "oversample = RandomOverSampler()\n",
    "oversampled_X, oversampled_y  = oversample.fit_resample(reshaped_X , y)\n",
    "\n",
    "# reshaping X back to the first dims\n",
    "X = oversampled_X.reshape(-1,img_w,img_h,1)\n"
   ]
  },
  {
   "cell_type": "code",
   "execution_count": 22,
   "metadata": {},
   "outputs": [],
   "source": [
    "y = oversampled_y"
   ]
  },
  {
   "cell_type": "code",
   "execution_count": 23,
   "metadata": {},
   "outputs": [],
   "source": [
    "x_train, x_test, y_train, y_test = train_test_split(X,y, test_size=0.05, random_state=42)"
   ]
  },
  {
   "cell_type": "code",
   "execution_count": 24,
   "metadata": {},
   "outputs": [
    {
     "data": {
      "text/plain": [
       "(4802, 64, 64, 1)"
      ]
     },
     "execution_count": 24,
     "metadata": {},
     "output_type": "execute_result"
    }
   ],
   "source": [
    "x_train.shape"
   ]
  },
  {
   "cell_type": "code",
   "execution_count": null,
   "metadata": {},
   "outputs": [],
   "source": []
  },
  {
   "cell_type": "code",
   "execution_count": 49,
   "metadata": {},
   "outputs": [],
   "source": [
    "model = tf.keras.models.Sequential()"
   ]
  },
  {
   "cell_type": "code",
   "execution_count": 50,
   "metadata": {},
   "outputs": [],
   "source": [
    "model.add(\n",
    "    tf.keras.layers.Conv2D(\n",
    "        filters=32, # filters to learn\n",
    "        kernel_size=(5,5),\n",
    "        strides=(1,1),\n",
    "        padding='valid',\n",
    "        activation='relu',\n",
    "        input_shape=(img_w,img_h,1)\n",
    "    )\n",
    ")"
   ]
  },
  {
   "cell_type": "code",
   "execution_count": 51,
   "metadata": {},
   "outputs": [],
   "source": [
    "model.add(\n",
    "    tf.keras.layers.Conv2D(\n",
    "        filters=32, # filters to learn\n",
    "        kernel_size=(5,5),\n",
    "        strides=(1,1),\n",
    "        padding='valid',\n",
    "        activation='relu',\n",
    "        input_shape=(img_w,img_h,1)\n",
    "    )\n",
    ")"
   ]
  },
  {
   "cell_type": "code",
   "execution_count": 52,
   "metadata": {},
   "outputs": [],
   "source": [
    "# model.add(tf.keras.layers.experimental.preprocessing.Resizing(224,224, interpolation='nearest'))"
   ]
  },
  {
   "cell_type": "code",
   "execution_count": 53,
   "metadata": {},
   "outputs": [],
   "source": [
    "# feature_extractor = 'https://tfhub.dev/google/tf2-preview/mobilenet_v2/feature_vector/4'\n",
    "# feature_extractor_layer = hub.KerasLayer(feature_extractor, input_shape = (224, 224,3))\n",
    "# feature_extractor_layer.trainable = False\n",
    "# model.add(feature_extractor_layer)"
   ]
  },
  {
   "cell_type": "code",
   "execution_count": null,
   "metadata": {},
   "outputs": [],
   "source": []
  },
  {
   "cell_type": "code",
   "execution_count": null,
   "metadata": {},
   "outputs": [],
   "source": []
  },
  {
   "cell_type": "code",
   "execution_count": null,
   "metadata": {},
   "outputs": [],
   "source": []
  },
  {
   "cell_type": "code",
   "execution_count": 54,
   "metadata": {},
   "outputs": [],
   "source": [
    "# The next layer we will add is a Maxpooling layer. This will reduce the \n",
    "# dimensionality of each feature, which reduces the number of parameters that \n",
    "# the model needs to learn, which shortens training time.\n",
    "model.add(\n",
    "    tf.keras.layers.MaxPooling2D(\n",
    "        pool_size=(2, 2), # Size feature will be mapped to\n",
    "        strides=(2, 2) # How the pool \"steps\" across the feature\n",
    "    )\n",
    ")"
   ]
  },
  {
   "cell_type": "code",
   "execution_count": 55,
   "metadata": {},
   "outputs": [
    {
     "name": "stdout",
     "output_type": "stream",
     "text": [
      "Model: \"sequential_1\"\n",
      "_________________________________________________________________\n",
      "Layer (type)                 Output Shape              Param #   \n",
      "=================================================================\n",
      "conv2d_2 (Conv2D)            (None, 60, 60, 32)        832       \n",
      "_________________________________________________________________\n",
      "conv2d_3 (Conv2D)            (None, 56, 56, 32)        25632     \n",
      "_________________________________________________________________\n",
      "max_pooling2d_1 (MaxPooling2 (None, 28, 28, 32)        0         \n",
      "_________________________________________________________________\n",
      "dropout_2 (Dropout)          (None, 28, 28, 32)        0         \n",
      "_________________________________________________________________\n",
      "flatten_2 (Flatten)          (None, 25088)             0         \n",
      "_________________________________________________________________\n",
      "dense_4 (Dense)              (None, 32)                802848    \n",
      "_________________________________________________________________\n",
      "dense_5 (Dense)              (None, 5)                 165       \n",
      "=================================================================\n",
      "Total params: 829,477\n",
      "Trainable params: 829,477\n",
      "Non-trainable params: 0\n",
      "_________________________________________________________________\n"
     ]
    }
   ],
   "source": [
    "# We'll now add a dropout layer. This fights overfitting and forces the model to \n",
    "# learn multiple representations of the same data by randomly disabling neurons \n",
    "# in the learning phase.\n",
    "model.add(\n",
    "    tf.keras.layers.Dropout(\n",
    "        rate=0.30 # Randomly disable 25% of neurons\n",
    "    )\n",
    ")\n",
    "# model.add(\n",
    "#     tf.keras.layers.Dropout(\n",
    "#         rate=0.25 # Randomly disable 25% of neurons\n",
    "#     )\n",
    "# )\n",
    "\n",
    "\n",
    "# Output from previous layer is a 3D tensor. This must be flattened to a 1D \n",
    "# vector before beiung fed to the Dense Layers.\n",
    "model.add(\n",
    "    tf.keras.layers.Flatten()\n",
    ")\n",
    "\n",
    "# A dense (interconnected) layer is added for mapping the derived features \n",
    "# to the required class.\n",
    "model.add(\n",
    "    tf.keras.layers.Dense(\n",
    "        units=32, # Output shape\n",
    "        activation='relu' # Rectified Linear Unit Activation Function\n",
    "    )\n",
    ")\n",
    "\n",
    "# Final layer with 10 outputs and a softmax activation. Softmax activation \n",
    "# enables me to calculate the output based on the probabilities. \n",
    "# Each class is assigned a probability and the class with the maximum \n",
    "# probability is the model’s output for the input.\n",
    "model.add(\n",
    "    tf.keras.layers.Dense(\n",
    "        units=5, # Output shape\n",
    "        activation='softmax' # Softmax Activation Function\n",
    "    )\n",
    ")\n",
    "\n",
    "# Build the model\n",
    "model.compile(\n",
    "    loss=tf.keras.losses.sparse_categorical_crossentropy, # loss function\n",
    "    optimizer=tf.keras.optimizers.Adam(), # optimizer function\n",
    "    metrics=['accuracy'] # reporting metric\n",
    ")\n",
    "\n",
    "# Display a summary of the models structure\n",
    "model.summary()"
   ]
  },
  {
   "cell_type": "code",
   "execution_count": null,
   "metadata": {},
   "outputs": [],
   "source": []
  },
  {
   "cell_type": "code",
   "execution_count": 56,
   "metadata": {},
   "outputs": [
    {
     "name": "stdout",
     "output_type": "stream",
     "text": [
      "Epoch 1/50\n",
      "34/34 [==============================] - 1s 23ms/step - loss: 1.4996 - accuracy: 0.3761 - val_loss: 1.1646 - val_accuracy: 0.5850\n",
      "Epoch 2/50\n",
      "34/34 [==============================] - 1s 16ms/step - loss: 0.9798 - accuracy: 0.6510 - val_loss: 0.8256 - val_accuracy: 0.7134\n",
      "Epoch 3/50\n",
      "34/34 [==============================] - 1s 16ms/step - loss: 0.6736 - accuracy: 0.7679 - val_loss: 0.6374 - val_accuracy: 0.7876\n",
      "Epoch 4/50\n",
      "34/34 [==============================] - 1s 16ms/step - loss: 0.4902 - accuracy: 0.8399 - val_loss: 0.5306 - val_accuracy: 0.8272\n",
      "Epoch 5/50\n",
      "34/34 [==============================] - 1s 16ms/step - loss: 0.3729 - accuracy: 0.8798 - val_loss: 0.5043 - val_accuracy: 0.8411\n",
      "Epoch 6/50\n",
      "34/34 [==============================] - 1s 15ms/step - loss: 0.3061 - accuracy: 0.9021 - val_loss: 0.4787 - val_accuracy: 0.8536\n",
      "Epoch 7/50\n",
      "34/34 [==============================] - 1s 16ms/step - loss: 0.2431 - accuracy: 0.9244 - val_loss: 0.4617 - val_accuracy: 0.8640\n",
      "Epoch 8/50\n",
      "34/34 [==============================] - 1s 16ms/step - loss: 0.1737 - accuracy: 0.9470 - val_loss: 0.4376 - val_accuracy: 0.8709\n",
      "Epoch 9/50\n",
      "34/34 [==============================] - 1s 15ms/step - loss: 0.1367 - accuracy: 0.9610 - val_loss: 0.4267 - val_accuracy: 0.8869\n",
      "Epoch 10/50\n",
      "34/34 [==============================] - 1s 16ms/step - loss: 0.1166 - accuracy: 0.9655 - val_loss: 0.4653 - val_accuracy: 0.8799\n",
      "Epoch 11/50\n",
      "34/34 [==============================] - 1s 16ms/step - loss: 0.0850 - accuracy: 0.9768 - val_loss: 0.4295 - val_accuracy: 0.8897\n",
      "Epoch 12/50\n",
      "34/34 [==============================] - 1s 15ms/step - loss: 0.0563 - accuracy: 0.9866 - val_loss: 0.5254 - val_accuracy: 0.8869\n",
      "Epoch 13/50\n",
      "34/34 [==============================] - 1s 16ms/step - loss: 0.0587 - accuracy: 0.9816 - val_loss: 0.5094 - val_accuracy: 0.8862\n",
      "Epoch 14/50\n",
      "34/34 [==============================] - 1s 16ms/step - loss: 0.0422 - accuracy: 0.9899 - val_loss: 0.5238 - val_accuracy: 0.8910\n",
      "Epoch 15/50\n",
      "34/34 [==============================] - 1s 16ms/step - loss: 0.0457 - accuracy: 0.9896 - val_loss: 0.5139 - val_accuracy: 0.8959\n",
      "Epoch 16/50\n",
      "34/34 [==============================] - 1s 18ms/step - loss: 0.0254 - accuracy: 0.9949 - val_loss: 0.4858 - val_accuracy: 0.8987\n",
      "Epoch 17/50\n",
      "34/34 [==============================] - 1s 19ms/step - loss: 0.0337 - accuracy: 0.9911 - val_loss: 0.5341 - val_accuracy: 0.9008\n",
      "Epoch 18/50\n",
      "34/34 [==============================] - 1s 19ms/step - loss: 0.0237 - accuracy: 0.9935 - val_loss: 0.5360 - val_accuracy: 0.8924\n",
      "Epoch 19/50\n",
      "34/34 [==============================] - 1s 18ms/step - loss: 0.0248 - accuracy: 0.9935 - val_loss: 0.5467 - val_accuracy: 0.8959\n",
      "Epoch 20/50\n",
      "34/34 [==============================] - 1s 17ms/step - loss: 0.0212 - accuracy: 0.9955 - val_loss: 0.6596 - val_accuracy: 0.8910\n",
      "Epoch 21/50\n",
      "34/34 [==============================] - 1s 16ms/step - loss: 0.0175 - accuracy: 0.9949 - val_loss: 0.6352 - val_accuracy: 0.8869\n",
      "Epoch 22/50\n",
      "34/34 [==============================] - 1s 16ms/step - loss: 0.0168 - accuracy: 0.9955 - val_loss: 0.5643 - val_accuracy: 0.8980\n"
     ]
    }
   ],
   "source": [
    "early_stopping = callbacks.EarlyStopping(monitor='val_accuracy', patience=5, restore_best_weights=True)\n",
    "# Train the CNN on the training data\n",
    "history = model.fit(\n",
    "    \n",
    "      # Training data : features (images) and classes.\n",
    "      x_train, y_train,\n",
    "                    \n",
    "      # number of samples to work through before updating the \n",
    "      # internal model parameters via back propagation.\n",
    "      batch_size=100, \n",
    "\n",
    "      # An epoch is an iteration over the entire training data.\n",
    "      epochs=50, \n",
    "\n",
    "      # The model will set apart his fraction of the training \n",
    "      # data, will not train on it, and will evaluate the loss\n",
    "      # and any model metrics on this data at the end of \n",
    "      # each epoch. \n",
    "      validation_split=0.3, \n",
    "      callbacks=[early_stopping],\n",
    "      verbose=1) "
   ]
  },
  {
   "cell_type": "code",
   "execution_count": null,
   "metadata": {},
   "outputs": [],
   "source": [
    "## Model 2"
   ]
  },
  {
   "cell_type": "code",
   "execution_count": 64,
   "metadata": {},
   "outputs": [],
   "source": [
    "def model4(hp):\n",
    "    model = Sequential()\n",
    "    model.add(layers.Input((img_w, img_h,1)))\n",
    "\n",
    "    hp_fe_11 = hp.Int('filter_exp_11', min_value=3, max_value=7, step=1)\n",
    "    hp_fe_12 = hp.Int('filter_exp_12', min_value=3, max_value=7, step=1)\n",
    "    hp_fs_11 = hp.Int('filter_size_11',  min_value=2, max_value=6, step=1)\n",
    "    hp_fs_12 = hp.Int('filter_size_12',  min_value=2, max_value=6, step=1)\n",
    "    hp_mps_1 = hp.Int('max_pool_size_1', min_value=2, max_value=6, step=1)\n",
    "\n",
    "    model.add(layers.Conv2D(2**hp_fe_11, hp_fs_11, padding='same', activation='relu'))\n",
    "    model.add(layers.Conv2D(2**hp_fe_12, hp_fs_12, padding='same', activation='relu'))\n",
    "    model.add(layers.MaxPooling2D(hp_mps_1))\n",
    "    model.add(layers.Dropout(0.2))\n",
    "\n",
    "    hp_dense_exp_1 = hp.Int('dense_exp_1', min_value=5, max_value=9, step=1)\n",
    "    model.add(layers.Flatten())\n",
    "    model.add(layers.Dense(units=2**hp_dense_exp_1, activation='relu'))\n",
    "    model.add(layers.Dropout(0.2))\n",
    "    model.add(layers.Dense(5, activation='softmax'))\n",
    "\n",
    "    model.compile(optimizer=optimizers.Adam(),\n",
    "                    loss=losses.SparseCategoricalCrossentropy(from_logits=True),\n",
    "                    metrics=['accuracy'])\n",
    "\n",
    "    return model"
   ]
  },
  {
   "cell_type": "code",
   "execution_count": 65,
   "metadata": {},
   "outputs": [],
   "source": [
    "# We used Keras Tuner, to find the best hyperparameters for our models\n",
    "def model_tuner(model_builder, dir):\n",
    "\n",
    "    tuner = kt.Hyperband(model_builder,\n",
    "                        objective='val_accuracy',\n",
    "                        max_epochs=10,\n",
    "                        factor=3)\n",
    "\n",
    "    early_stopping = callbacks.EarlyStopping(monitor='val_accuracy', patience=5, restore_best_weights=True)\n",
    "\n",
    "    tuner.search(x_train, y_train, validation_split=0.3, epochs=50, callbacks=[early_stopping])\n",
    "    best_hps=tuner.get_best_hyperparameters(num_trials=1)[0]\n",
    "\n",
    "    pp = pprint.PrettyPrinter(indent=1)\n",
    "    print(\"\\n-- Best Model Hyper params --\\n \")\n",
    "    pp.pprint(best_hps.values)\n",
    "\n",
    "    model = tuner.hypermodel.build(best_hps)\n",
    "\n",
    "    print(\"\\n-- Model Performance --\\n \")\n",
    "    \n",
    "\n",
    "    history = model.fit(x_train, y_train, epochs=50, callbacks=[early_stopping], validation_split=0.3, verbose=2)\n",
    "    score, acc = model.evaluate(x_test, y_test)\n",
    "    val_acc_per_epoch = history.history['val_accuracy']\n",
    "    best_epoch = val_acc_per_epoch.index(max(val_acc_per_epoch)) \n",
    "    print()\n",
    "    print('Best epoch  : %d' % (best_epoch,))\n",
    "    print(\"Best val acc: %s\" % (round(max(history.history['val_accuracy']), 4)))\n",
    "    print(\"    Test acc: %s\" % (round(acc, 4)))\n",
    "\n",
    "    return model"
   ]
  },
  {
   "cell_type": "code",
   "execution_count": 66,
   "metadata": {},
   "outputs": [
    {
     "name": "stdout",
     "output_type": "stream",
     "text": [
      "Trial 30 Complete [00h 00m 10s]\n",
      "val_accuracy: 0.8882720470428467\n",
      "\n",
      "Best val_accuracy So Far: 0.9111728072166443\n",
      "Total elapsed time: 00h 02m 59s\n",
      "INFO:tensorflow:Oracle triggered exit\n",
      "\n",
      "-- Best Model Hyper params --\n",
      " \n",
      "{'dense_exp_1': 8,\n",
      " 'filter_exp_11': 4,\n",
      " 'filter_exp_12': 6,\n",
      " 'filter_size_11': 3,\n",
      " 'filter_size_12': 4,\n",
      " 'max_pool_size_1': 5,\n",
      " 'tuner/bracket': 0,\n",
      " 'tuner/epochs': 10,\n",
      " 'tuner/initial_epoch': 0,\n",
      " 'tuner/round': 0}\n",
      "\n",
      "-- Model Performance --\n",
      " \n",
      "Epoch 1/50\n",
      "106/106 - 1s - loss: 1.2057 - accuracy: 0.5162 - val_loss: 0.8907 - val_accuracy: 0.6801\n",
      "Epoch 2/50\n",
      "106/106 - 1s - loss: 0.6964 - accuracy: 0.7608 - val_loss: 0.5856 - val_accuracy: 0.7988\n",
      "Epoch 3/50\n",
      "106/106 - 1s - loss: 0.4647 - accuracy: 0.8450 - val_loss: 0.4833 - val_accuracy: 0.8473\n",
      "Epoch 4/50\n",
      "106/106 - 1s - loss: 0.3337 - accuracy: 0.8869 - val_loss: 0.4291 - val_accuracy: 0.8563\n",
      "Epoch 5/50\n",
      "106/106 - 1s - loss: 0.2398 - accuracy: 0.9206 - val_loss: 0.4012 - val_accuracy: 0.8765\n",
      "Epoch 6/50\n",
      "106/106 - 1s - loss: 0.1795 - accuracy: 0.9441 - val_loss: 0.3998 - val_accuracy: 0.8806\n",
      "Epoch 7/50\n",
      "106/106 - 1s - loss: 0.1462 - accuracy: 0.9572 - val_loss: 0.3519 - val_accuracy: 0.9008\n",
      "Epoch 8/50\n",
      "106/106 - 1s - loss: 0.0985 - accuracy: 0.9711 - val_loss: 0.3979 - val_accuracy: 0.8910\n",
      "Epoch 9/50\n",
      "106/106 - 1s - loss: 0.0687 - accuracy: 0.9816 - val_loss: 0.3928 - val_accuracy: 0.8966\n",
      "Epoch 10/50\n",
      "106/106 - 1s - loss: 0.0590 - accuracy: 0.9836 - val_loss: 0.3931 - val_accuracy: 0.9001\n",
      "Epoch 11/50\n",
      "106/106 - 1s - loss: 0.0462 - accuracy: 0.9881 - val_loss: 0.4024 - val_accuracy: 0.9049\n",
      "Epoch 12/50\n",
      "106/106 - 1s - loss: 0.0306 - accuracy: 0.9929 - val_loss: 0.3967 - val_accuracy: 0.9084\n",
      "Epoch 13/50\n",
      "106/106 - 1s - loss: 0.0263 - accuracy: 0.9940 - val_loss: 0.4796 - val_accuracy: 0.8966\n",
      "Epoch 14/50\n",
      "106/106 - 1s - loss: 0.0258 - accuracy: 0.9943 - val_loss: 0.4616 - val_accuracy: 0.9070\n",
      "Epoch 15/50\n",
      "106/106 - 1s - loss: 0.0527 - accuracy: 0.9830 - val_loss: 0.4654 - val_accuracy: 0.9056\n",
      "Epoch 16/50\n",
      "106/106 - 1s - loss: 0.0304 - accuracy: 0.9905 - val_loss: 0.5374 - val_accuracy: 0.8966\n",
      "Epoch 17/50\n",
      "106/106 - 1s - loss: 0.0243 - accuracy: 0.9949 - val_loss: 0.4907 - val_accuracy: 0.9042\n",
      "8/8 [==============================] - 0s 13ms/step - loss: 0.3255 - accuracy: 0.9130\n",
      "\n",
      "Best epoch  : 11\n",
      "Best val acc: 0.9084\n",
      "    Test acc: 0.913\n"
     ]
    }
   ],
   "source": [
    "trained_model_4 = model_tuner(model4, 'model4')"
   ]
  },
  {
   "cell_type": "code",
   "execution_count": 67,
   "metadata": {},
   "outputs": [
    {
     "name": "stdout",
     "output_type": "stream",
     "text": [
      "Model: \"sequential_1\"\n",
      "_________________________________________________________________\n",
      "Layer (type)                 Output Shape              Param #   \n",
      "=================================================================\n",
      "conv2d_2 (Conv2D)            (None, 64, 64, 16)        160       \n",
      "_________________________________________________________________\n",
      "conv2d_3 (Conv2D)            (None, 64, 64, 64)        16448     \n",
      "_________________________________________________________________\n",
      "max_pooling2d_1 (MaxPooling2 (None, 12, 12, 64)        0         \n",
      "_________________________________________________________________\n",
      "dropout_2 (Dropout)          (None, 12, 12, 64)        0         \n",
      "_________________________________________________________________\n",
      "flatten_1 (Flatten)          (None, 9216)              0         \n",
      "_________________________________________________________________\n",
      "dense_2 (Dense)              (None, 256)               2359552   \n",
      "_________________________________________________________________\n",
      "dropout_3 (Dropout)          (None, 256)               0         \n",
      "_________________________________________________________________\n",
      "dense_3 (Dense)              (None, 5)                 1285      \n",
      "=================================================================\n",
      "Total params: 2,377,445\n",
      "Trainable params: 2,377,445\n",
      "Non-trainable params: 0\n",
      "_________________________________________________________________\n"
     ]
    }
   ],
   "source": [
    "trained_model_4.summary()"
   ]
  },
  {
   "cell_type": "code",
   "execution_count": 68,
   "metadata": {},
   "outputs": [],
   "source": [
    "trained_model_4.save('best_model.h5')"
   ]
  },
  {
   "cell_type": "code",
   "execution_count": 69,
   "metadata": {},
   "outputs": [],
   "source": [
    "model = tf.keras.models.load_model('./best_model.h5')"
   ]
  },
  {
   "cell_type": "code",
   "execution_count": 73,
   "metadata": {},
   "outputs": [
    {
     "data": {
      "text/plain": [
       "'Shoes'"
      ]
     },
     "execution_count": 73,
     "metadata": {},
     "output_type": "execute_result"
    }
   ],
   "source": [
    "lookup[np.argmax(model.predict(test_img.reshape(1,64,64,1)))]"
   ]
  },
  {
   "cell_type": "code",
   "execution_count": 46,
   "metadata": {},
   "outputs": [],
   "source": [
    "lookup = {value: key for key, value in dict_labels.items()}"
   ]
  },
  {
   "cell_type": "code",
   "execution_count": null,
   "metadata": {},
   "outputs": [],
   "source": [
    "plt.imshow(x_test[0])\n",
    "plt.title(lookup[y_test[0]])\n",
    "plt.show()"
   ]
  },
  {
   "cell_type": "code",
   "execution_count": null,
   "metadata": {},
   "outputs": [],
   "source": [
    "test_img = x_test[0]"
   ]
  },
  {
   "cell_type": "code",
   "execution_count": null,
   "metadata": {},
   "outputs": [],
   "source": [
    "test_img1 = load_image(\"../clothing-dataset/images/0a7e5fe0-d592-40e6-b9b8-75aac9a2d685.jpg\")"
   ]
  },
  {
   "cell_type": "code",
   "execution_count": null,
   "metadata": {},
   "outputs": [],
   "source": [
    "img = load_img(\"../clothing-dataset/images/0a7e5fe0-d592-40e6-b9b8-75aac9a2d685.jpg\")"
   ]
  },
  {
   "cell_type": "code",
   "execution_count": null,
   "metadata": {},
   "outputs": [],
   "source": []
  },
  {
   "cell_type": "code",
   "execution_count": null,
   "metadata": {},
   "outputs": [],
   "source": [
    "plt.imshow(test_img1)"
   ]
  },
  {
   "cell_type": "code",
   "execution_count": null,
   "metadata": {},
   "outputs": [],
   "source": [
    "predicted = lookup[np.argmax(model.predict(test_img1.reshape(1,64,64,1)))]\n",
    "actual = lookup[y_test[0]]\n",
    "\n",
    "\"predicted: \"+  predicted, \"actual: \"+ actual"
   ]
  },
  {
   "cell_type": "code",
   "execution_count": 26,
   "metadata": {},
   "outputs": [],
   "source": [
    "from collections import Counter"
   ]
  },
  {
   "cell_type": "code",
   "execution_count": 77,
   "metadata": {},
   "outputs": [
    {
     "data": {
      "text/plain": [
       "Counter({0: 45, 1: 38, 3: 18, 4: 20, 2: 39})"
      ]
     },
     "execution_count": 77,
     "metadata": {},
     "output_type": "execute_result"
    }
   ],
   "source": [
    "Counter(y_test)"
   ]
  },
  {
   "cell_type": "code",
   "execution_count": 27,
   "metadata": {},
   "outputs": [
    {
     "data": {
      "text/plain": [
       "Counter({3: 43, 2: 48, 1: 55, 4: 44, 0: 63})"
      ]
     },
     "execution_count": 27,
     "metadata": {},
     "output_type": "execute_result"
    }
   ],
   "source": [
    "Counter(y_test)"
   ]
  },
  {
   "cell_type": "code",
   "execution_count": 29,
   "metadata": {},
   "outputs": [
    {
     "data": {
      "text/plain": [
       "Counter({0: 1011, 4: 1011, 1: 1011, 3: 1011, 2: 1011})"
      ]
     },
     "execution_count": 29,
     "metadata": {},
     "output_type": "execute_result"
    }
   ],
   "source": [
    "Counter(y)"
   ]
  },
  {
   "cell_type": "code",
   "execution_count": 40,
   "metadata": {},
   "outputs": [],
   "source": [
    "img = load_image('../clothing-dataset/unknown.png')"
   ]
  },
  {
   "cell_type": "code",
   "execution_count": 41,
   "metadata": {},
   "outputs": [
    {
     "data": {
      "text/plain": [
       "<matplotlib.image.AxesImage at 0x158f8ea5a00>"
      ]
     },
     "execution_count": 41,
     "metadata": {},
     "output_type": "execute_result"
    },
    {
     "data": {
      "image/png": "[encoded data removed]",
      "text/plain": [
       "<Figure size 432x288 with 1 Axes>"
      ]
     },
     "metadata": {
      "needs_background": "light"
     },
     "output_type": "display_data"
    }
   ],
   "source": [
    "plt.imshow(img)"
   ]
  },
  {
   "cell_type": "code",
   "execution_count": 47,
   "metadata": {},
   "outputs": [
    {
     "data": {
      "text/plain": [
       "'Pants'"
      ]
     },
     "execution_count": 47,
     "metadata": {},
     "output_type": "execute_result"
    }
   ],
   "source": [
    "lookup[np.argmax(model.predict(img.reshape(1,64,64,1)))]"
   ]
  }
 ],
 "metadata": {
  "interpreter": {
   "hash": "5a7368ff7cdc52ddb5e44bf63afdf6ce6b912e649d48978d8b3edeb8bc60b54e"
  },
  "kernelspec": {
   "display_name": "Python 3.8.11 ('ai-env')",
   "language": "python",
   "name": "python3"
  },
  "language_info": {
   "codemirror_mode": {
    "name": "ipython",
    "version": 3
   },
   "file_extension": ".py",
   "mimetype": "text/x-python",
   "name": "python",
   "nbconvert_exporter": "python",
   "pygments_lexer": "ipython3",
   "version": "3.8.11"
  },
  "orig_nbformat": 4
 },
 "nbformat": 4,
 "nbformat_minor": 2
}
