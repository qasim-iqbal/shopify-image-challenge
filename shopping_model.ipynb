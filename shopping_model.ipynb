{
 "cells": [
  {
   "cell_type": "code",
   "execution_count": 25,
   "metadata": {},
   "outputs": [],
   "source": [
    "import pandas as pd\n",
    "import tensorflow as tf\n",
    "import numpy as np\n",
    "import matplotlib.pyplot as plt\n",
    "from sklearn.metrics import classification_report\n",
    "\n",
    "\n",
    "from PIL import Image"
   ]
  },
  {
   "cell_type": "code",
   "execution_count": 2,
   "metadata": {},
   "outputs": [],
   "source": [
    "(x_train, y_train), (x_test, y_test) = tf.keras.datasets.fashion_mnist.load_data()\n",
    "\n",
    "# Map for human readable class names\n",
    "class_names = ['T-shirt/top', 'Trouser', 'Pullover', 'Dress', 'Coat', \n",
    "               'Sandal', 'Shirt', 'Sneaker', 'Bag', 'Ankle boot']"
   ]
  },
  {
   "cell_type": "code",
   "execution_count": 3,
   "metadata": {},
   "outputs": [
    {
     "name": "stdout",
     "output_type": "stream",
     "text": [
      "Shape of training Image data [[[0 0 0 ... 0 0 0]\n",
      "  [0 0 0 ... 0 0 0]\n",
      "  [0 0 0 ... 0 0 0]\n",
      "  ...\n",
      "  [0 0 0 ... 0 0 0]\n",
      "  [0 0 0 ... 0 0 0]\n",
      "  [0 0 0 ... 0 0 0]]\n",
      "\n",
      " [[0 0 0 ... 0 0 0]\n",
      "  [0 0 0 ... 0 0 0]\n",
      "  [0 0 0 ... 0 0 0]\n",
      "  ...\n",
      "  [0 0 0 ... 0 0 0]\n",
      "  [0 0 0 ... 0 0 0]\n",
      "  [0 0 0 ... 0 0 0]]\n",
      "\n",
      " [[0 0 0 ... 0 0 0]\n",
      "  [0 0 0 ... 0 0 0]\n",
      "  [0 0 0 ... 0 0 0]\n",
      "  ...\n",
      "  [0 0 0 ... 0 0 0]\n",
      "  [0 0 0 ... 0 0 0]\n",
      "  [0 0 0 ... 0 0 0]]\n",
      "\n",
      " ...\n",
      "\n",
      " [[0 0 0 ... 0 0 0]\n",
      "  [0 0 0 ... 0 0 0]\n",
      "  [0 0 0 ... 0 0 0]\n",
      "  ...\n",
      "  [0 0 0 ... 0 0 0]\n",
      "  [0 0 0 ... 0 0 0]\n",
      "  [0 0 0 ... 0 0 0]]\n",
      "\n",
      " [[0 0 0 ... 0 0 0]\n",
      "  [0 0 0 ... 0 0 0]\n",
      "  [0 0 0 ... 0 0 0]\n",
      "  ...\n",
      "  [0 0 0 ... 0 0 0]\n",
      "  [0 0 0 ... 0 0 0]\n",
      "  [0 0 0 ... 0 0 0]]\n",
      "\n",
      " [[0 0 0 ... 0 0 0]\n",
      "  [0 0 0 ... 0 0 0]\n",
      "  [0 0 0 ... 0 0 0]\n",
      "  ...\n",
      "  [0 0 0 ... 0 0 0]\n",
      "  [0 0 0 ... 0 0 0]\n",
      "  [0 0 0 ... 0 0 0]]]\n"
     ]
    }
   ],
   "source": [
    "# Training\n",
    "# 60,000 images of size 28x28 \n",
    "print(f\"Shape of training Image data {x_train}\")"
   ]
  },
  {
   "cell_type": "code",
   "execution_count": 4,
   "metadata": {},
   "outputs": [],
   "source": [
    "# build network"
   ]
  },
  {
   "cell_type": "code",
   "execution_count": 5,
   "metadata": {},
   "outputs": [],
   "source": [
    "model = tf.keras.models.Sequential()"
   ]
  },
  {
   "cell_type": "code",
   "execution_count": 6,
   "metadata": {},
   "outputs": [],
   "source": [
    "model.add(\n",
    "    tf.keras.layers.Conv2D(\n",
    "        filters=32, # filters to learn\n",
    "        kernel_size=(3,3),\n",
    "        strides=(1,1),\n",
    "        padding='valid',\n",
    "        activation='relu',\n",
    "        input_shape=(28,28,1)\n",
    "    )\n",
    ")"
   ]
  },
  {
   "cell_type": "code",
   "execution_count": 7,
   "metadata": {},
   "outputs": [],
   "source": [
    "# The next layer we will add is a Maxpooling layer. This will reduce the \n",
    "# dimensionality of each feature, which reduces the number of parameters that \n",
    "# the model needs to learn, which shortens training time.\n",
    "model.add(\n",
    "    tf.keras.layers.MaxPooling2D(\n",
    "        pool_size=(2, 2), # Size feature will be mapped to\n",
    "        strides=(2, 2) # How the pool \"steps\" across the feature\n",
    "    )\n",
    ")"
   ]
  },
  {
   "cell_type": "code",
   "execution_count": 8,
   "metadata": {},
   "outputs": [],
   "source": [
    "# We'll now add a dropout layer. This fights overfitting and forces the model to \n",
    "# learn multiple representations of the same data by randomly disabling neurons \n",
    "# in the learning phase.\n",
    "model.add(\n",
    "    tf.keras.layers.Dropout(\n",
    "        rate=0.25 # Randomly disable 25% of neurons\n",
    "    )\n",
    ")"
   ]
  },
  {
   "cell_type": "code",
   "execution_count": 9,
   "metadata": {},
   "outputs": [
    {
     "name": "stdout",
     "output_type": "stream",
     "text": [
      "Model: \"sequential\"\n",
      "_________________________________________________________________\n",
      "Layer (type)                 Output Shape              Param #   \n",
      "=================================================================\n",
      "conv2d (Conv2D)              (None, 26, 26, 32)        320       \n",
      "_________________________________________________________________\n",
      "max_pooling2d (MaxPooling2D) (None, 13, 13, 32)        0         \n",
      "_________________________________________________________________\n",
      "dropout (Dropout)            (None, 13, 13, 32)        0         \n",
      "_________________________________________________________________\n",
      "flatten (Flatten)            (None, 5408)              0         \n",
      "_________________________________________________________________\n",
      "dense (Dense)                (None, 128)               692352    \n",
      "_________________________________________________________________\n",
      "dense_1 (Dense)              (None, 10)                1290      \n",
      "=================================================================\n",
      "Total params: 693,962\n",
      "Trainable params: 693,962\n",
      "Non-trainable params: 0\n",
      "_________________________________________________________________\n"
     ]
    }
   ],
   "source": [
    "\n",
    "# Output from previous layer is a 3D tensor. This must be flattened to a 1D \n",
    "# vector before beiung fed to the Dense Layers.\n",
    "model.add(\n",
    "    tf.keras.layers.Flatten()\n",
    ")\n",
    "\n",
    "# A dense (interconnected) layer is added for mapping the derived features \n",
    "# to the required class.\n",
    "model.add(\n",
    "    tf.keras.layers.Dense(\n",
    "        units=128, # Output shape\n",
    "        activation='relu' # Rectified Linear Unit Activation Function\n",
    "    )\n",
    ")\n",
    "\n",
    "# Final layer with 10 outputs and a softmax activation. Softmax activation \n",
    "# enables me to calculate the output based on the probabilities. \n",
    "# Each class is assigned a probability and the class with the maximum \n",
    "# probability is the model’s output for the input.\n",
    "model.add(\n",
    "    tf.keras.layers.Dense(\n",
    "        units=10, # Output shape\n",
    "        activation='softmax' # Softmax Activation Function\n",
    "    )\n",
    ")\n",
    "\n",
    "# Build the model\n",
    "model.compile(\n",
    "    loss=tf.keras.losses.sparse_categorical_crossentropy, # loss function\n",
    "    optimizer=tf.keras.optimizers.Adam(), # optimizer function\n",
    "    metrics=['accuracy'] # reporting metric\n",
    ")\n",
    "\n",
    "# Display a summary of the models structure\n",
    "model.summary()"
   ]
  },
  {
   "cell_type": "code",
   "execution_count": 11,
   "metadata": {},
   "outputs": [
    {
     "name": "stdout",
     "output_type": "stream",
     "text": [
      "Epoch 1/10\n",
      "188/188 [==============================] - 14s 6ms/step - loss: 5.2454 - accuracy: 0.7600 - val_loss: 0.5293 - val_accuracy: 0.8618\n",
      "Epoch 2/10\n",
      "188/188 [==============================] - 1s 4ms/step - loss: 0.5441 - accuracy: 0.8481 - val_loss: 0.3780 - val_accuracy: 0.8716\n",
      "Epoch 3/10\n",
      "188/188 [==============================] - 1s 4ms/step - loss: 0.3759 - accuracy: 0.8720 - val_loss: 0.3347 - val_accuracy: 0.8852\n",
      "Epoch 4/10\n",
      "188/188 [==============================] - 1s 4ms/step - loss: 0.3172 - accuracy: 0.8887 - val_loss: 0.3082 - val_accuracy: 0.8939\n",
      "Epoch 5/10\n",
      "188/188 [==============================] - 1s 4ms/step - loss: 0.2828 - accuracy: 0.8986 - val_loss: 0.3015 - val_accuracy: 0.8952\n",
      "Epoch 6/10\n",
      "188/188 [==============================] - 1s 4ms/step - loss: 0.2548 - accuracy: 0.9058 - val_loss: 0.3023 - val_accuracy: 0.8928\n",
      "Epoch 7/10\n",
      "188/188 [==============================] - 1s 4ms/step - loss: 0.2372 - accuracy: 0.9112 - val_loss: 0.2903 - val_accuracy: 0.8967\n",
      "Epoch 8/10\n",
      "188/188 [==============================] - 1s 4ms/step - loss: 0.2211 - accuracy: 0.9172 - val_loss: 0.3029 - val_accuracy: 0.8942\n",
      "Epoch 9/10\n",
      "188/188 [==============================] - 1s 4ms/step - loss: 0.2114 - accuracy: 0.9211 - val_loss: 0.2886 - val_accuracy: 0.9010\n",
      "Epoch 10/10\n",
      "188/188 [==============================] - 1s 4ms/step - loss: 0.2017 - accuracy: 0.9248 - val_loss: 0.2991 - val_accuracy: 0.9005\n"
     ]
    }
   ],
   "source": [
    "# Add an empty color dimension as the Convolutional net is expecting this\n",
    "x_train = np.expand_dims(x_train, -1)\n",
    "x_test = np.expand_dims(x_test, -1)\n",
    "\n",
    "# Train the CNN on the training data\n",
    "history = model.fit(\n",
    "    \n",
    "      # Training data : features (images) and classes.\n",
    "      x_train, y_train,\n",
    "                    \n",
    "      # number of samples to work through before updating the \n",
    "      # internal model parameters via back propagation.\n",
    "      batch_size=256, \n",
    "\n",
    "      # An epoch is an iteration over the entire training data.\n",
    "      epochs=10, \n",
    "\n",
    "      # The model will set apart his fraction of the training \n",
    "      # data, will not train on it, and will evaluate the loss\n",
    "      # and any model metrics on this data at the end of \n",
    "      # each epoch. \n",
    "      validation_split=0.2, \n",
    "\n",
    "      verbose=1) "
   ]
  },
  {
   "cell_type": "code",
   "execution_count": 18,
   "metadata": {},
   "outputs": [
    {
     "name": "stdout",
     "output_type": "stream",
     "text": [
      "              precision    recall  f1-score   support\n",
      "\n",
      " T-shirt/top       0.84      0.83      0.84      1000\n",
      "     Trouser       0.99      0.98      0.98      1000\n",
      "    Pullover       0.88      0.75      0.81      1000\n",
      "       Dress       0.90      0.90      0.90      1000\n",
      "        Coat       0.78      0.88      0.83      1000\n",
      "      Sandal       0.99      0.98      0.98      1000\n",
      "       Shirt       0.69      0.71      0.70      1000\n",
      "     Sneaker       0.94      0.98      0.96      1000\n",
      "         Bag       0.98      0.98      0.98      1000\n",
      "  Ankle boot       0.98      0.95      0.96      1000\n",
      "\n",
      "    accuracy                           0.89     10000\n",
      "   macro avg       0.90      0.89      0.89     10000\n",
      "weighted avg       0.90      0.89      0.89     10000\n",
      "\n"
     ]
    }
   ],
   "source": [
    "# Get Model Predictions for test data\n",
    "predicted_classes = model.predict(x_test)\n",
    "predicted_classes = np.argmax(predicted_classes, axis=-1)\n",
    "print(classification_report(y_test, predicted_classes, target_names=class_names))"
   ]
  },
  {
   "cell_type": "code",
   "execution_count": 19,
   "metadata": {},
   "outputs": [],
   "source": [
    "# single image test"
   ]
  },
  {
   "cell_type": "code",
   "execution_count": 21,
   "metadata": {},
   "outputs": [],
   "source": [
    "img_path = 'static/images/Nikko_black_sandal.jpg'"
   ]
  },
  {
   "cell_type": "code",
   "execution_count": 22,
   "metadata": {},
   "outputs": [
    {
     "data": {
      "text/plain": [
       "'static/images/Nikko_black_sandal.jpg'"
      ]
     },
     "execution_count": 22,
     "metadata": {},
     "output_type": "execute_result"
    }
   ],
   "source": []
  },
  {
   "cell_type": "code",
   "execution_count": 26,
   "metadata": {},
   "outputs": [],
   "source": [
    "img = Image.open(img_path)"
   ]
  },
  {
   "cell_type": "code",
   "execution_count": 38,
   "metadata": {},
   "outputs": [],
   "source": [
    "img1 = img.resize((28,28), Image.NEAREST)\n",
    "pix = np.array(img1)"
   ]
  },
  {
   "cell_type": "code",
   "execution_count": 35,
   "metadata": {},
   "outputs": [
    {
     "data": {
      "image/png": "[encoded data removed]",
      "text/plain": [
       "<PIL.Image.Image image mode=RGB size=28x28 at 0x21B0B831370>"
      ]
     },
     "execution_count": 35,
     "metadata": {},
     "output_type": "execute_result"
    }
   ],
   "source": [
    "img1"
   ]
  },
  {
   "cell_type": "code",
   "execution_count": 42,
   "metadata": {},
   "outputs": [],
   "source": [
    "pix1 = np.dot(pix[...,:3], [0.299, 0.587, 0.144])"
   ]
  },
  {
   "cell_type": "code",
   "execution_count": 53,
   "metadata": {},
   "outputs": [],
   "source": [
    "pix1 = pix1.reshape((28,28,1))"
   ]
  },
  {
   "cell_type": "code",
   "execution_count": 55,
   "metadata": {},
   "outputs": [
    {
     "ename": "ValueError",
     "evalue": "in user code:\n\n    c:\\Users\\Qasim\\anaconda3\\envs\\ai-env\\lib\\site-packages\\keras\\engine\\training.py:1586 predict_function  *\n        return step_function(self, iterator)\n    c:\\Users\\Qasim\\anaconda3\\envs\\ai-env\\lib\\site-packages\\keras\\engine\\training.py:1576 step_function  **\n        outputs = model.distribute_strategy.run(run_step, args=(data,))\n    c:\\Users\\Qasim\\anaconda3\\envs\\ai-env\\lib\\site-packages\\tensorflow\\python\\distribute\\distribute_lib.py:1286 run\n        return self._extended.call_for_each_replica(fn, args=args, kwargs=kwargs)\n    c:\\Users\\Qasim\\anaconda3\\envs\\ai-env\\lib\\site-packages\\tensorflow\\python\\distribute\\distribute_lib.py:2849 call_for_each_replica\n        return self._call_for_each_replica(fn, args, kwargs)\n    c:\\Users\\Qasim\\anaconda3\\envs\\ai-env\\lib\\site-packages\\tensorflow\\python\\distribute\\distribute_lib.py:3632 _call_for_each_replica\n        return fn(*args, **kwargs)\n    c:\\Users\\Qasim\\anaconda3\\envs\\ai-env\\lib\\site-packages\\keras\\engine\\training.py:1569 run_step  **\n        outputs = model.predict_step(data)\n    c:\\Users\\Qasim\\anaconda3\\envs\\ai-env\\lib\\site-packages\\keras\\engine\\training.py:1537 predict_step\n        return self(x, training=False)\n    c:\\Users\\Qasim\\anaconda3\\envs\\ai-env\\lib\\site-packages\\keras\\engine\\base_layer.py:1020 __call__\n        input_spec.assert_input_compatibility(self.input_spec, inputs, self.name)\n    c:\\Users\\Qasim\\anaconda3\\envs\\ai-env\\lib\\site-packages\\keras\\engine\\input_spec.py:229 assert_input_compatibility\n        raise ValueError('Input ' + str(input_index) + ' of layer ' +\n\n    ValueError: Input 0 of layer sequential is incompatible with the layer: : expected min_ndim=4, found ndim=3. Full shape received: (None, 28, 1)\n",
     "output_type": "error",
     "traceback": [
      "\u001b[1;31m---------------------------------------------------------------------------\u001b[0m",
      "\u001b[1;31mValueError\u001b[0m                                Traceback (most recent call last)",
      "\u001b[1;32m~\\AppData\\Local\\Temp/ipykernel_28352/1134744021.py\u001b[0m in \u001b[0;36m<module>\u001b[1;34m\u001b[0m\n\u001b[1;32m----> 1\u001b[1;33m \u001b[0mmodel\u001b[0m\u001b[1;33m.\u001b[0m\u001b[0mpredict\u001b[0m\u001b[1;33m(\u001b[0m\u001b[0mpix1\u001b[0m\u001b[1;33m)\u001b[0m\u001b[1;33m\u001b[0m\u001b[1;33m\u001b[0m\u001b[0m\n\u001b[0m",
      "\u001b[1;32mc:\\Users\\Qasim\\anaconda3\\envs\\ai-env\\lib\\site-packages\\keras\\engine\\training.py\u001b[0m in \u001b[0;36mpredict\u001b[1;34m(self, x, batch_size, verbose, steps, callbacks, max_queue_size, workers, use_multiprocessing)\u001b[0m\n\u001b[0;32m   1749\u001b[0m           \u001b[1;32mfor\u001b[0m \u001b[0mstep\u001b[0m \u001b[1;32min\u001b[0m \u001b[0mdata_handler\u001b[0m\u001b[1;33m.\u001b[0m\u001b[0msteps\u001b[0m\u001b[1;33m(\u001b[0m\u001b[1;33m)\u001b[0m\u001b[1;33m:\u001b[0m\u001b[1;33m\u001b[0m\u001b[1;33m\u001b[0m\u001b[0m\n\u001b[0;32m   1750\u001b[0m             \u001b[0mcallbacks\u001b[0m\u001b[1;33m.\u001b[0m\u001b[0mon_predict_batch_begin\u001b[0m\u001b[1;33m(\u001b[0m\u001b[0mstep\u001b[0m\u001b[1;33m)\u001b[0m\u001b[1;33m\u001b[0m\u001b[1;33m\u001b[0m\u001b[0m\n\u001b[1;32m-> 1751\u001b[1;33m             \u001b[0mtmp_batch_outputs\u001b[0m \u001b[1;33m=\u001b[0m \u001b[0mself\u001b[0m\u001b[1;33m.\u001b[0m\u001b[0mpredict_function\u001b[0m\u001b[1;33m(\u001b[0m\u001b[0miterator\u001b[0m\u001b[1;33m)\u001b[0m\u001b[1;33m\u001b[0m\u001b[1;33m\u001b[0m\u001b[0m\n\u001b[0m\u001b[0;32m   1752\u001b[0m             \u001b[1;32mif\u001b[0m \u001b[0mdata_handler\u001b[0m\u001b[1;33m.\u001b[0m\u001b[0mshould_sync\u001b[0m\u001b[1;33m:\u001b[0m\u001b[1;33m\u001b[0m\u001b[1;33m\u001b[0m\u001b[0m\n\u001b[0;32m   1753\u001b[0m               \u001b[0mcontext\u001b[0m\u001b[1;33m.\u001b[0m\u001b[0masync_wait\u001b[0m\u001b[1;33m(\u001b[0m\u001b[1;33m)\u001b[0m\u001b[1;33m\u001b[0m\u001b[1;33m\u001b[0m\u001b[0m\n",
      "\u001b[1;32mc:\\Users\\Qasim\\anaconda3\\envs\\ai-env\\lib\\site-packages\\tensorflow\\python\\eager\\def_function.py\u001b[0m in \u001b[0;36m__call__\u001b[1;34m(self, *args, **kwds)\u001b[0m\n\u001b[0;32m    883\u001b[0m \u001b[1;33m\u001b[0m\u001b[0m\n\u001b[0;32m    884\u001b[0m       \u001b[1;32mwith\u001b[0m \u001b[0mOptionalXlaContext\u001b[0m\u001b[1;33m(\u001b[0m\u001b[0mself\u001b[0m\u001b[1;33m.\u001b[0m\u001b[0m_jit_compile\u001b[0m\u001b[1;33m)\u001b[0m\u001b[1;33m:\u001b[0m\u001b[1;33m\u001b[0m\u001b[1;33m\u001b[0m\u001b[0m\n\u001b[1;32m--> 885\u001b[1;33m         \u001b[0mresult\u001b[0m \u001b[1;33m=\u001b[0m \u001b[0mself\u001b[0m\u001b[1;33m.\u001b[0m\u001b[0m_call\u001b[0m\u001b[1;33m(\u001b[0m\u001b[1;33m*\u001b[0m\u001b[0margs\u001b[0m\u001b[1;33m,\u001b[0m \u001b[1;33m**\u001b[0m\u001b[0mkwds\u001b[0m\u001b[1;33m)\u001b[0m\u001b[1;33m\u001b[0m\u001b[1;33m\u001b[0m\u001b[0m\n\u001b[0m\u001b[0;32m    886\u001b[0m \u001b[1;33m\u001b[0m\u001b[0m\n\u001b[0;32m    887\u001b[0m       \u001b[0mnew_tracing_count\u001b[0m \u001b[1;33m=\u001b[0m \u001b[0mself\u001b[0m\u001b[1;33m.\u001b[0m\u001b[0mexperimental_get_tracing_count\u001b[0m\u001b[1;33m(\u001b[0m\u001b[1;33m)\u001b[0m\u001b[1;33m\u001b[0m\u001b[1;33m\u001b[0m\u001b[0m\n",
      "\u001b[1;32mc:\\Users\\Qasim\\anaconda3\\envs\\ai-env\\lib\\site-packages\\tensorflow\\python\\eager\\def_function.py\u001b[0m in \u001b[0;36m_call\u001b[1;34m(self, *args, **kwds)\u001b[0m\n\u001b[0;32m    922\u001b[0m       \u001b[1;31m# In this case we have not created variables on the first call. So we can\u001b[0m\u001b[1;33m\u001b[0m\u001b[1;33m\u001b[0m\u001b[1;33m\u001b[0m\u001b[0m\n\u001b[0;32m    923\u001b[0m       \u001b[1;31m# run the first trace but we should fail if variables are created.\u001b[0m\u001b[1;33m\u001b[0m\u001b[1;33m\u001b[0m\u001b[1;33m\u001b[0m\u001b[0m\n\u001b[1;32m--> 924\u001b[1;33m       \u001b[0mresults\u001b[0m \u001b[1;33m=\u001b[0m \u001b[0mself\u001b[0m\u001b[1;33m.\u001b[0m\u001b[0m_stateful_fn\u001b[0m\u001b[1;33m(\u001b[0m\u001b[1;33m*\u001b[0m\u001b[0margs\u001b[0m\u001b[1;33m,\u001b[0m \u001b[1;33m**\u001b[0m\u001b[0mkwds\u001b[0m\u001b[1;33m)\u001b[0m\u001b[1;33m\u001b[0m\u001b[1;33m\u001b[0m\u001b[0m\n\u001b[0m\u001b[0;32m    925\u001b[0m       \u001b[1;32mif\u001b[0m \u001b[0mself\u001b[0m\u001b[1;33m.\u001b[0m\u001b[0m_created_variables\u001b[0m \u001b[1;32mand\u001b[0m \u001b[1;32mnot\u001b[0m \u001b[0mALLOW_DYNAMIC_VARIABLE_CREATION\u001b[0m\u001b[1;33m:\u001b[0m\u001b[1;33m\u001b[0m\u001b[1;33m\u001b[0m\u001b[0m\n\u001b[0;32m    926\u001b[0m         raise ValueError(\"Creating variables on a non-first call to a function\"\n",
      "\u001b[1;32mc:\\Users\\Qasim\\anaconda3\\envs\\ai-env\\lib\\site-packages\\tensorflow\\python\\eager\\function.py\u001b[0m in \u001b[0;36m__call__\u001b[1;34m(self, *args, **kwargs)\u001b[0m\n\u001b[0;32m   3036\u001b[0m     \u001b[1;32mwith\u001b[0m \u001b[0mself\u001b[0m\u001b[1;33m.\u001b[0m\u001b[0m_lock\u001b[0m\u001b[1;33m:\u001b[0m\u001b[1;33m\u001b[0m\u001b[1;33m\u001b[0m\u001b[0m\n\u001b[0;32m   3037\u001b[0m       (graph_function,\n\u001b[1;32m-> 3038\u001b[1;33m        filtered_flat_args) = self._maybe_define_function(args, kwargs)\n\u001b[0m\u001b[0;32m   3039\u001b[0m     return graph_function._call_flat(\n\u001b[0;32m   3040\u001b[0m         filtered_flat_args, captured_inputs=graph_function.captured_inputs)  # pylint: disable=protected-access\n",
      "\u001b[1;32mc:\\Users\\Qasim\\anaconda3\\envs\\ai-env\\lib\\site-packages\\tensorflow\\python\\eager\\function.py\u001b[0m in \u001b[0;36m_maybe_define_function\u001b[1;34m(self, args, kwargs)\u001b[0m\n\u001b[0;32m   3457\u001b[0m               \u001b[0mself\u001b[0m\u001b[1;33m.\u001b[0m\u001b[0minput_signature\u001b[0m \u001b[1;32mis\u001b[0m \u001b[1;32mNone\u001b[0m \u001b[1;32mand\u001b[0m\u001b[1;33m\u001b[0m\u001b[1;33m\u001b[0m\u001b[0m\n\u001b[0;32m   3458\u001b[0m               call_context_key in self._function_cache.missed):\n\u001b[1;32m-> 3459\u001b[1;33m             return self._define_function_with_shape_relaxation(\n\u001b[0m\u001b[0;32m   3460\u001b[0m                 args, kwargs, flat_args, filtered_flat_args, cache_key_context)\n\u001b[0;32m   3461\u001b[0m \u001b[1;33m\u001b[0m\u001b[0m\n",
      "\u001b[1;32mc:\\Users\\Qasim\\anaconda3\\envs\\ai-env\\lib\\site-packages\\tensorflow\\python\\eager\\function.py\u001b[0m in \u001b[0;36m_define_function_with_shape_relaxation\u001b[1;34m(self, args, kwargs, flat_args, filtered_flat_args, cache_key_context)\u001b[0m\n\u001b[0;32m   3379\u001b[0m           expand_composites=True)\n\u001b[0;32m   3380\u001b[0m \u001b[1;33m\u001b[0m\u001b[0m\n\u001b[1;32m-> 3381\u001b[1;33m     graph_function = self._create_graph_function(\n\u001b[0m\u001b[0;32m   3382\u001b[0m         args, kwargs, override_flat_arg_shapes=relaxed_arg_shapes)\n\u001b[0;32m   3383\u001b[0m     \u001b[0mself\u001b[0m\u001b[1;33m.\u001b[0m\u001b[0m_function_cache\u001b[0m\u001b[1;33m.\u001b[0m\u001b[0marg_relaxed\u001b[0m\u001b[1;33m[\u001b[0m\u001b[0mrank_only_cache_key\u001b[0m\u001b[1;33m]\u001b[0m \u001b[1;33m=\u001b[0m \u001b[0mgraph_function\u001b[0m\u001b[1;33m\u001b[0m\u001b[1;33m\u001b[0m\u001b[0m\n",
      "\u001b[1;32mc:\\Users\\Qasim\\anaconda3\\envs\\ai-env\\lib\\site-packages\\tensorflow\\python\\eager\\function.py\u001b[0m in \u001b[0;36m_create_graph_function\u001b[1;34m(self, args, kwargs, override_flat_arg_shapes)\u001b[0m\n\u001b[0;32m   3296\u001b[0m     \u001b[0marg_names\u001b[0m \u001b[1;33m=\u001b[0m \u001b[0mbase_arg_names\u001b[0m \u001b[1;33m+\u001b[0m \u001b[0mmissing_arg_names\u001b[0m\u001b[1;33m\u001b[0m\u001b[1;33m\u001b[0m\u001b[0m\n\u001b[0;32m   3297\u001b[0m     graph_function = ConcreteFunction(\n\u001b[1;32m-> 3298\u001b[1;33m         func_graph_module.func_graph_from_py_func(\n\u001b[0m\u001b[0;32m   3299\u001b[0m             \u001b[0mself\u001b[0m\u001b[1;33m.\u001b[0m\u001b[0m_name\u001b[0m\u001b[1;33m,\u001b[0m\u001b[1;33m\u001b[0m\u001b[1;33m\u001b[0m\u001b[0m\n\u001b[0;32m   3300\u001b[0m             \u001b[0mself\u001b[0m\u001b[1;33m.\u001b[0m\u001b[0m_python_function\u001b[0m\u001b[1;33m,\u001b[0m\u001b[1;33m\u001b[0m\u001b[1;33m\u001b[0m\u001b[0m\n",
      "\u001b[1;32mc:\\Users\\Qasim\\anaconda3\\envs\\ai-env\\lib\\site-packages\\tensorflow\\python\\framework\\func_graph.py\u001b[0m in \u001b[0;36mfunc_graph_from_py_func\u001b[1;34m(name, python_func, args, kwargs, signature, func_graph, autograph, autograph_options, add_control_dependencies, arg_names, op_return_value, collections, capture_by_value, override_flat_arg_shapes, acd_record_initial_resource_uses)\u001b[0m\n\u001b[0;32m   1005\u001b[0m         \u001b[0m_\u001b[0m\u001b[1;33m,\u001b[0m \u001b[0moriginal_func\u001b[0m \u001b[1;33m=\u001b[0m \u001b[0mtf_decorator\u001b[0m\u001b[1;33m.\u001b[0m\u001b[0munwrap\u001b[0m\u001b[1;33m(\u001b[0m\u001b[0mpython_func\u001b[0m\u001b[1;33m)\u001b[0m\u001b[1;33m\u001b[0m\u001b[1;33m\u001b[0m\u001b[0m\n\u001b[0;32m   1006\u001b[0m \u001b[1;33m\u001b[0m\u001b[0m\n\u001b[1;32m-> 1007\u001b[1;33m       \u001b[0mfunc_outputs\u001b[0m \u001b[1;33m=\u001b[0m \u001b[0mpython_func\u001b[0m\u001b[1;33m(\u001b[0m\u001b[1;33m*\u001b[0m\u001b[0mfunc_args\u001b[0m\u001b[1;33m,\u001b[0m \u001b[1;33m**\u001b[0m\u001b[0mfunc_kwargs\u001b[0m\u001b[1;33m)\u001b[0m\u001b[1;33m\u001b[0m\u001b[1;33m\u001b[0m\u001b[0m\n\u001b[0m\u001b[0;32m   1008\u001b[0m \u001b[1;33m\u001b[0m\u001b[0m\n\u001b[0;32m   1009\u001b[0m       \u001b[1;31m# invariant: `func_outputs` contains only Tensors, CompositeTensors,\u001b[0m\u001b[1;33m\u001b[0m\u001b[1;33m\u001b[0m\u001b[1;33m\u001b[0m\u001b[0m\n",
      "\u001b[1;32mc:\\Users\\Qasim\\anaconda3\\envs\\ai-env\\lib\\site-packages\\tensorflow\\python\\eager\\def_function.py\u001b[0m in \u001b[0;36mwrapped_fn\u001b[1;34m(*args, **kwds)\u001b[0m\n\u001b[0;32m    666\u001b[0m         \u001b[1;31m# the function a weak reference to itself to avoid a reference cycle.\u001b[0m\u001b[1;33m\u001b[0m\u001b[1;33m\u001b[0m\u001b[1;33m\u001b[0m\u001b[0m\n\u001b[0;32m    667\u001b[0m         \u001b[1;32mwith\u001b[0m \u001b[0mOptionalXlaContext\u001b[0m\u001b[1;33m(\u001b[0m\u001b[0mcompile_with_xla\u001b[0m\u001b[1;33m)\u001b[0m\u001b[1;33m:\u001b[0m\u001b[1;33m\u001b[0m\u001b[1;33m\u001b[0m\u001b[0m\n\u001b[1;32m--> 668\u001b[1;33m           \u001b[0mout\u001b[0m \u001b[1;33m=\u001b[0m \u001b[0mweak_wrapped_fn\u001b[0m\u001b[1;33m(\u001b[0m\u001b[1;33m)\u001b[0m\u001b[1;33m.\u001b[0m\u001b[0m__wrapped__\u001b[0m\u001b[1;33m(\u001b[0m\u001b[1;33m*\u001b[0m\u001b[0margs\u001b[0m\u001b[1;33m,\u001b[0m \u001b[1;33m**\u001b[0m\u001b[0mkwds\u001b[0m\u001b[1;33m)\u001b[0m\u001b[1;33m\u001b[0m\u001b[1;33m\u001b[0m\u001b[0m\n\u001b[0m\u001b[0;32m    669\u001b[0m         \u001b[1;32mreturn\u001b[0m \u001b[0mout\u001b[0m\u001b[1;33m\u001b[0m\u001b[1;33m\u001b[0m\u001b[0m\n\u001b[0;32m    670\u001b[0m \u001b[1;33m\u001b[0m\u001b[0m\n",
      "\u001b[1;32mc:\\Users\\Qasim\\anaconda3\\envs\\ai-env\\lib\\site-packages\\tensorflow\\python\\framework\\func_graph.py\u001b[0m in \u001b[0;36mwrapper\u001b[1;34m(*args, **kwargs)\u001b[0m\n\u001b[0;32m    992\u001b[0m           \u001b[1;32mexcept\u001b[0m \u001b[0mException\u001b[0m \u001b[1;32mas\u001b[0m \u001b[0me\u001b[0m\u001b[1;33m:\u001b[0m  \u001b[1;31m# pylint:disable=broad-except\u001b[0m\u001b[1;33m\u001b[0m\u001b[1;33m\u001b[0m\u001b[0m\n\u001b[0;32m    993\u001b[0m             \u001b[1;32mif\u001b[0m \u001b[0mhasattr\u001b[0m\u001b[1;33m(\u001b[0m\u001b[0me\u001b[0m\u001b[1;33m,\u001b[0m \u001b[1;34m\"ag_error_metadata\"\u001b[0m\u001b[1;33m)\u001b[0m\u001b[1;33m:\u001b[0m\u001b[1;33m\u001b[0m\u001b[1;33m\u001b[0m\u001b[0m\n\u001b[1;32m--> 994\u001b[1;33m               \u001b[1;32mraise\u001b[0m \u001b[0me\u001b[0m\u001b[1;33m.\u001b[0m\u001b[0mag_error_metadata\u001b[0m\u001b[1;33m.\u001b[0m\u001b[0mto_exception\u001b[0m\u001b[1;33m(\u001b[0m\u001b[0me\u001b[0m\u001b[1;33m)\u001b[0m\u001b[1;33m\u001b[0m\u001b[1;33m\u001b[0m\u001b[0m\n\u001b[0m\u001b[0;32m    995\u001b[0m             \u001b[1;32melse\u001b[0m\u001b[1;33m:\u001b[0m\u001b[1;33m\u001b[0m\u001b[1;33m\u001b[0m\u001b[0m\n\u001b[0;32m    996\u001b[0m               \u001b[1;32mraise\u001b[0m\u001b[1;33m\u001b[0m\u001b[1;33m\u001b[0m\u001b[0m\n",
      "\u001b[1;31mValueError\u001b[0m: in user code:\n\n    c:\\Users\\Qasim\\anaconda3\\envs\\ai-env\\lib\\site-packages\\keras\\engine\\training.py:1586 predict_function  *\n        return step_function(self, iterator)\n    c:\\Users\\Qasim\\anaconda3\\envs\\ai-env\\lib\\site-packages\\keras\\engine\\training.py:1576 step_function  **\n        outputs = model.distribute_strategy.run(run_step, args=(data,))\n    c:\\Users\\Qasim\\anaconda3\\envs\\ai-env\\lib\\site-packages\\tensorflow\\python\\distribute\\distribute_lib.py:1286 run\n        return self._extended.call_for_each_replica(fn, args=args, kwargs=kwargs)\n    c:\\Users\\Qasim\\anaconda3\\envs\\ai-env\\lib\\site-packages\\tensorflow\\python\\distribute\\distribute_lib.py:2849 call_for_each_replica\n        return self._call_for_each_replica(fn, args, kwargs)\n    c:\\Users\\Qasim\\anaconda3\\envs\\ai-env\\lib\\site-packages\\tensorflow\\python\\distribute\\distribute_lib.py:3632 _call_for_each_replica\n        return fn(*args, **kwargs)\n    c:\\Users\\Qasim\\anaconda3\\envs\\ai-env\\lib\\site-packages\\keras\\engine\\training.py:1569 run_step  **\n        outputs = model.predict_step(data)\n    c:\\Users\\Qasim\\anaconda3\\envs\\ai-env\\lib\\site-packages\\keras\\engine\\training.py:1537 predict_step\n        return self(x, training=False)\n    c:\\Users\\Qasim\\anaconda3\\envs\\ai-env\\lib\\site-packages\\keras\\engine\\base_layer.py:1020 __call__\n        input_spec.assert_input_compatibility(self.input_spec, inputs, self.name)\n    c:\\Users\\Qasim\\anaconda3\\envs\\ai-env\\lib\\site-packages\\keras\\engine\\input_spec.py:229 assert_input_compatibility\n        raise ValueError('Input ' + str(input_index) + ' of layer ' +\n\n    ValueError: Input 0 of layer sequential is incompatible with the layer: : expected min_ndim=4, found ndim=3. Full shape received: (None, 28, 1)\n"
     ]
    }
   ],
   "source": [
    "model.predict(pix1)"
   ]
  },
  {
   "cell_type": "code",
   "execution_count": 56,
   "metadata": {},
   "outputs": [
    {
     "data": {
      "text/plain": [
       "(28, 28, 1)"
      ]
     },
     "execution_count": 56,
     "metadata": {},
     "output_type": "execute_result"
    }
   ],
   "source": [
    "pix1.shape"
   ]
  },
  {
   "cell_type": "code",
   "execution_count": 58,
   "metadata": {},
   "outputs": [
    {
     "data": {
      "text/plain": [
       "(28, 28, 1)"
      ]
     },
     "execution_count": 58,
     "metadata": {},
     "output_type": "execute_result"
    }
   ],
   "source": [
    "x_test[0].shape"
   ]
  },
  {
   "cell_type": "code",
   "execution_count": 63,
   "metadata": {},
   "outputs": [],
   "source": [
    "res = model.predict(pix1.reshape(1,28,28,1))"
   ]
  },
  {
   "cell_type": "code",
   "execution_count": 66,
   "metadata": {},
   "outputs": [
    {
     "data": {
      "text/plain": [
       "'T-shirt/top'"
      ]
     },
     "execution_count": 66,
     "metadata": {},
     "output_type": "execute_result"
    }
   ],
   "source": [
    "class_names[np.argmax(res, axis=-1)[0]]"
   ]
  },
  {
   "cell_type": "code",
   "execution_count": 67,
   "metadata": {},
   "outputs": [
    {
     "data": {
      "text/plain": [
       "array([[4.7221863e-01, 1.4627549e-01, 2.2128876e-01, 2.8026242e-02,\n",
       "        2.6231841e-03, 1.3461109e-03, 1.2411907e-01, 2.0946090e-06,\n",
       "        4.0980377e-03, 2.2929828e-06]], dtype=float32)"
      ]
     },
     "execution_count": 67,
     "metadata": {},
     "output_type": "execute_result"
    }
   ],
   "source": [
    "res"
   ]
  },
  {
   "cell_type": "code",
   "execution_count": 68,
   "metadata": {},
   "outputs": [
    {
     "data": {
      "text/plain": [
       "<matplotlib.image.AxesImage at 0x21ca88cb820>"
      ]
     },
     "execution_count": 68,
     "metadata": {},
     "output_type": "execute_result"
    },
    {
     "data": {
      "image/png": "[encoded data removed]",
      "text/plain": [
       "<Figure size 432x288 with 1 Axes>"
      ]
     },
     "metadata": {
      "needs_background": "light"
     },
     "output_type": "display_data"
    }
   ],
   "source": [
    "plt.imshow(pix1)"
   ]
  },
  {
   "cell_type": "code",
   "execution_count": 80,
   "metadata": {},
   "outputs": [
    {
     "data": {
      "text/plain": [
       "<matplotlib.image.AxesImage at 0x21cc2af3b20>"
      ]
     },
     "execution_count": 80,
     "metadata": {},
     "output_type": "execute_result"
    },
    {
     "data": {
      "image/png": "[encoded data removed]",
      "text/plain": [
       "<Figure size 432x288 with 2 Axes>"
      ]
     },
     "metadata": {
      "needs_background": "light"
     },
     "output_type": "display_data"
    }
   ],
   "source": [
    "fig, ax = plt.subplots(1,2)\n",
    "\n",
    "ax[0].imshow(img1)\n",
    "ax[1].imshow(pix1)"
   ]
  },
  {
   "cell_type": "code",
   "execution_count": 69,
   "metadata": {},
   "outputs": [
    {
     "data": {
      "text/plain": [
       "<matplotlib.image.AxesImage at 0x21ca8f970d0>"
      ]
     },
     "execution_count": 69,
     "metadata": {},
     "output_type": "execute_result"
    },
    {
     "data": {
      "image/png": "[encoded data removed]",
      "text/plain": [
       "<Figure size 432x288 with 1 Axes>"
      ]
     },
     "metadata": {
      "needs_background": "light"
     },
     "output_type": "display_data"
    }
   ],
   "source": [
    "plt.imshow(x_test[0])"
   ]
  },
  {
   "cell_type": "code",
   "execution_count": 81,
   "metadata": {},
   "outputs": [],
   "source": [
    "# make a prediction for a new image.\n",
    "from keras.preprocessing.image import load_img\n",
    "from keras.preprocessing.image import img_to_array\n",
    "from keras.models import load_model"
   ]
  },
  {
   "cell_type": "code",
   "execution_count": 82,
   "metadata": {},
   "outputs": [],
   "source": [
    "# load and prepare the image\n",
    "def load_image(filename):\n",
    "\t# load the image\n",
    "\timg = load_img(filename, grayscale=True, target_size=(28, 28))\n",
    "\t# convert to array\n",
    "\timg = img_to_array(img)\n",
    "\t# reshape into a single sample with 1 channel\n",
    "\timg = img.reshape(1, 28, 28, 1)\n",
    "\t# prepare pixel data\n",
    "\timg = img.astype('float32')\n",
    "\timg = img / 255.0\n",
    "\n",
    "\treturn img"
   ]
  },
  {
   "cell_type": "code",
   "execution_count": 84,
   "metadata": {},
   "outputs": [],
   "source": [
    "img2 = load_image(img_path)"
   ]
  },
  {
   "cell_type": "code",
   "execution_count": 91,
   "metadata": {},
   "outputs": [
    {
     "data": {
      "text/plain": [
       "<matplotlib.image.AxesImage at 0x21c92684580>"
      ]
     },
     "execution_count": 91,
     "metadata": {},
     "output_type": "execute_result"
    },
    {
     "data": {
      "image/png": "[encoded data removed]",
      "text/plain": [
       "<Figure size 432x288 with 1 Axes>"
      ]
     },
     "metadata": {
      "needs_background": "light"
     },
     "output_type": "display_data"
    }
   ],
   "source": [
    "plt.imshow(img2.reshape(28,28,1), cmap='gray')"
   ]
  },
  {
   "cell_type": "code",
   "execution_count": 92,
   "metadata": {},
   "outputs": [
    {
     "data": {
      "text/plain": [
       "array([[[[0.972549  ],\n",
       "         [0.9529412 ],\n",
       "         [0.92156863],\n",
       "         [0.93333334],\n",
       "         [0.91764706],\n",
       "         [0.9411765 ],\n",
       "         [0.9254902 ],\n",
       "         [0.9254902 ],\n",
       "         [0.9529412 ],\n",
       "         [0.99607843],\n",
       "         [0.9882353 ],\n",
       "         [0.96862745],\n",
       "         [0.972549  ],\n",
       "         [0.972549  ],\n",
       "         [0.94509804],\n",
       "         [1.        ],\n",
       "         [1.        ],\n",
       "         [0.9529412 ],\n",
       "         [0.9647059 ],\n",
       "         [0.9764706 ],\n",
       "         [0.9490196 ],\n",
       "         [0.9607843 ],\n",
       "         [0.99607843],\n",
       "         [0.9372549 ],\n",
       "         [0.99215686],\n",
       "         [0.94509804],\n",
       "         [0.91764706],\n",
       "         [0.96862745]],\n",
       "\n",
       "        [[0.98039216],\n",
       "         [0.8980392 ],\n",
       "         [0.90588236],\n",
       "         [0.9254902 ],\n",
       "         [0.9372549 ],\n",
       "         [0.9372549 ],\n",
       "         [0.9529412 ],\n",
       "         [0.9529412 ],\n",
       "         [0.99607843],\n",
       "         [0.94509804],\n",
       "         [0.972549  ],\n",
       "         [0.96862745],\n",
       "         [0.96862745],\n",
       "         [1.        ],\n",
       "         [0.18039216],\n",
       "         [0.9764706 ],\n",
       "         [0.99607843],\n",
       "         [0.9764706 ],\n",
       "         [0.99607843],\n",
       "         [0.9764706 ],\n",
       "         [0.9490196 ],\n",
       "         [0.9529412 ],\n",
       "         [0.9843137 ],\n",
       "         [0.9490196 ],\n",
       "         [0.93333334],\n",
       "         [0.9137255 ],\n",
       "         [0.9411765 ],\n",
       "         [0.94509804]],\n",
       "\n",
       "        [[0.95686275],\n",
       "         [0.94509804],\n",
       "         [0.91764706],\n",
       "         [0.99215686],\n",
       "         [0.8980392 ],\n",
       "         [0.94509804],\n",
       "         [0.9372549 ],\n",
       "         [0.9529412 ],\n",
       "         [0.9764706 ],\n",
       "         [0.96862745],\n",
       "         [0.9764706 ],\n",
       "         [0.9490196 ],\n",
       "         [0.99607843],\n",
       "         [0.9764706 ],\n",
       "         [0.36862746],\n",
       "         [0.99607843],\n",
       "         [0.7607843 ],\n",
       "         [0.98039216],\n",
       "         [0.9843137 ],\n",
       "         [0.9607843 ],\n",
       "         [0.95686275],\n",
       "         [0.9843137 ],\n",
       "         [0.9647059 ],\n",
       "         [0.98039216],\n",
       "         [0.9647059 ],\n",
       "         [0.9411765 ],\n",
       "         [0.9098039 ],\n",
       "         [0.95686275]],\n",
       "\n",
       "        [[0.9254902 ],\n",
       "         [0.9372549 ],\n",
       "         [0.9098039 ],\n",
       "         [0.9372549 ],\n",
       "         [0.9411765 ],\n",
       "         [0.94509804],\n",
       "         [0.92156863],\n",
       "         [0.93333334],\n",
       "         [0.92941177],\n",
       "         [0.3137255 ],\n",
       "         [0.99215686],\n",
       "         [0.9764706 ],\n",
       "         [0.27058825],\n",
       "         [1.        ],\n",
       "         [0.44313726],\n",
       "         [0.39607844],\n",
       "         [0.25882354],\n",
       "         [0.99607843],\n",
       "         [0.9843137 ],\n",
       "         [0.9882353 ],\n",
       "         [0.9607843 ],\n",
       "         [0.9647059 ],\n",
       "         [0.9607843 ],\n",
       "         [0.9529412 ],\n",
       "         [0.95686275],\n",
       "         [0.9490196 ],\n",
       "         [0.92941177],\n",
       "         [0.95686275]],\n",
       "\n",
       "        [[0.9137255 ],\n",
       "         [0.90588236],\n",
       "         [0.90588236],\n",
       "         [0.9098039 ],\n",
       "         [0.91764706],\n",
       "         [0.92156863],\n",
       "         [0.9529412 ],\n",
       "         [0.9490196 ],\n",
       "         [0.95686275],\n",
       "         [0.30980393],\n",
       "         [0.20392157],\n",
       "         [0.27058825],\n",
       "         [0.2509804 ],\n",
       "         [0.4745098 ],\n",
       "         [0.5294118 ],\n",
       "         [0.2784314 ],\n",
       "         [0.25490198],\n",
       "         [1.        ],\n",
       "         [0.99607843],\n",
       "         [1.        ],\n",
       "         [0.9882353 ],\n",
       "         [0.99607843],\n",
       "         [0.9843137 ],\n",
       "         [0.9372549 ],\n",
       "         [0.9607843 ],\n",
       "         [0.99215686],\n",
       "         [0.9882353 ],\n",
       "         [0.99215686]],\n",
       "\n",
       "        [[0.8745098 ],\n",
       "         [0.9254902 ],\n",
       "         [0.8745098 ],\n",
       "         [0.8784314 ],\n",
       "         [0.9019608 ],\n",
       "         [0.92156863],\n",
       "         [0.94509804],\n",
       "         [0.36078432],\n",
       "         [0.9372549 ],\n",
       "         [0.9647059 ],\n",
       "         [0.21176471],\n",
       "         [0.21960784],\n",
       "         [0.17254902],\n",
       "         [0.57254905],\n",
       "         [0.3764706 ],\n",
       "         [0.32941177],\n",
       "         [0.47058824],\n",
       "         [0.627451  ],\n",
       "         [0.14509805],\n",
       "         [0.13725491],\n",
       "         [1.        ],\n",
       "         [0.9843137 ],\n",
       "         [0.9529412 ],\n",
       "         [0.9490196 ],\n",
       "         [0.94509804],\n",
       "         [0.96862745],\n",
       "         [0.98039216],\n",
       "         [0.99215686]],\n",
       "\n",
       "        [[0.88235295],\n",
       "         [0.92941177],\n",
       "         [0.8666667 ],\n",
       "         [0.88235295],\n",
       "         [0.92156863],\n",
       "         [0.8784314 ],\n",
       "         [0.92156863],\n",
       "         [0.25490198],\n",
       "         [0.20392157],\n",
       "         [0.25882354],\n",
       "         [0.24705882],\n",
       "         [0.19215687],\n",
       "         [0.26666668],\n",
       "         [0.2509804 ],\n",
       "         [0.35686275],\n",
       "         [0.21568628],\n",
       "         [0.34509805],\n",
       "         [0.9137255 ],\n",
       "         [0.99607843],\n",
       "         [0.99215686],\n",
       "         [0.15686275],\n",
       "         [0.9647059 ],\n",
       "         [0.96862745],\n",
       "         [0.9411765 ],\n",
       "         [0.9647059 ],\n",
       "         [0.9647059 ],\n",
       "         [0.9764706 ],\n",
       "         [0.96862745]],\n",
       "\n",
       "        [[0.8901961 ],\n",
       "         [0.9098039 ],\n",
       "         [0.88235295],\n",
       "         [0.84705883],\n",
       "         [0.88235295],\n",
       "         [0.9019608 ],\n",
       "         [0.8235294 ],\n",
       "         [0.85490197],\n",
       "         [0.19607843],\n",
       "         [0.22352941],\n",
       "         [0.2627451 ],\n",
       "         [0.1254902 ],\n",
       "         [0.20392157],\n",
       "         [0.27450982],\n",
       "         [0.25490198],\n",
       "         [0.32156864],\n",
       "         [0.22352941],\n",
       "         [0.1764706 ],\n",
       "         [0.98039216],\n",
       "         [0.42745098],\n",
       "         [0.15294118],\n",
       "         [0.9647059 ],\n",
       "         [0.92941177],\n",
       "         [0.9372549 ],\n",
       "         [0.9254902 ],\n",
       "         [0.9607843 ],\n",
       "         [0.9098039 ],\n",
       "         [0.96862745]],\n",
       "\n",
       "        [[0.87058824],\n",
       "         [0.89411765],\n",
       "         [0.8980392 ],\n",
       "         [0.8666667 ],\n",
       "         [0.28235295],\n",
       "         [0.29411766],\n",
       "         [0.8352941 ],\n",
       "         [0.17254902],\n",
       "         [0.21568628],\n",
       "         [0.20392157],\n",
       "         [0.15294118],\n",
       "         [0.28627452],\n",
       "         [0.09019608],\n",
       "         [0.34117648],\n",
       "         [0.17254902],\n",
       "         [0.16862746],\n",
       "         [0.14117648],\n",
       "         [0.94509804],\n",
       "         [0.44313726],\n",
       "         [0.38431373],\n",
       "         [0.23921569],\n",
       "         [0.9843137 ],\n",
       "         [0.93333334],\n",
       "         [0.90588236],\n",
       "         [0.9411765 ],\n",
       "         [0.98039216],\n",
       "         [0.91764706],\n",
       "         [0.94509804]],\n",
       "\n",
       "        [[0.88235295],\n",
       "         [0.8784314 ],\n",
       "         [0.8666667 ],\n",
       "         [0.84313726],\n",
       "         [0.7019608 ],\n",
       "         [0.21176471],\n",
       "         [0.21960784],\n",
       "         [0.16078432],\n",
       "         [0.11372549],\n",
       "         [0.23529412],\n",
       "         [0.1254902 ],\n",
       "         [0.14509805],\n",
       "         [0.2       ],\n",
       "         [0.12156863],\n",
       "         [0.18431373],\n",
       "         [0.25490198],\n",
       "         [0.2784314 ],\n",
       "         [0.45882353],\n",
       "         [0.48235294],\n",
       "         [0.47058824],\n",
       "         [0.21568628],\n",
       "         [0.2627451 ],\n",
       "         [0.96862745],\n",
       "         [0.94509804],\n",
       "         [0.94509804],\n",
       "         [0.9490196 ],\n",
       "         [0.92156863],\n",
       "         [0.93333334]],\n",
       "\n",
       "        [[0.83137256],\n",
       "         [0.81960785],\n",
       "         [0.84705883],\n",
       "         [0.80784315],\n",
       "         [0.80784315],\n",
       "         [0.18039216],\n",
       "         [0.19607843],\n",
       "         [0.15294118],\n",
       "         [0.14117648],\n",
       "         [0.21176471],\n",
       "         [0.17254902],\n",
       "         [0.1254902 ],\n",
       "         [0.1254902 ],\n",
       "         [0.5882353 ],\n",
       "         [0.21960784],\n",
       "         [0.19607843],\n",
       "         [0.21176471],\n",
       "         [0.2       ],\n",
       "         [0.41568628],\n",
       "         [0.33333334],\n",
       "         [0.29803923],\n",
       "         [0.29411766],\n",
       "         [0.9372549 ],\n",
       "         [0.91764706],\n",
       "         [0.9411765 ],\n",
       "         [0.90588236],\n",
       "         [0.9019608 ],\n",
       "         [0.90588236]],\n",
       "\n",
       "        [[0.8392157 ],\n",
       "         [0.8235294 ],\n",
       "         [0.84705883],\n",
       "         [0.8666667 ],\n",
       "         [0.8980392 ],\n",
       "         [0.12941177],\n",
       "         [0.21960784],\n",
       "         [0.21568628],\n",
       "         [0.14117648],\n",
       "         [0.12156863],\n",
       "         [0.08627451],\n",
       "         [0.08235294],\n",
       "         [0.10196079],\n",
       "         [0.14509805],\n",
       "         [0.59607846],\n",
       "         [0.21960784],\n",
       "         [0.21568628],\n",
       "         [0.23137255],\n",
       "         [0.21960784],\n",
       "         [0.20392157],\n",
       "         [0.3137255 ],\n",
       "         [0.98039216],\n",
       "         [0.91764706],\n",
       "         [0.89411765],\n",
       "         [0.92156863],\n",
       "         [0.92941177],\n",
       "         [0.90588236],\n",
       "         [0.9019608 ]],\n",
       "\n",
       "        [[0.80784315],\n",
       "         [0.827451  ],\n",
       "         [0.84313726],\n",
       "         [0.7921569 ],\n",
       "         [0.26666668],\n",
       "         [0.18431373],\n",
       "         [0.12156863],\n",
       "         [0.22352941],\n",
       "         [0.27450982],\n",
       "         [0.1254902 ],\n",
       "         [0.08235294],\n",
       "         [0.09019608],\n",
       "         [0.20392157],\n",
       "         [0.18039216],\n",
       "         [0.2       ],\n",
       "         [0.22352941],\n",
       "         [0.21176471],\n",
       "         [0.2784314 ],\n",
       "         [0.22352941],\n",
       "         [0.3137255 ],\n",
       "         [0.3137255 ],\n",
       "         [1.        ],\n",
       "         [0.8980392 ],\n",
       "         [0.92156863],\n",
       "         [0.9254902 ],\n",
       "         [0.9137255 ],\n",
       "         [0.9019608 ],\n",
       "         [0.9137255 ]],\n",
       "\n",
       "        [[0.8156863 ],\n",
       "         [0.84313726],\n",
       "         [0.83137256],\n",
       "         [0.8156863 ],\n",
       "         [0.26666668],\n",
       "         [0.24705882],\n",
       "         [0.14117648],\n",
       "         [0.20392157],\n",
       "         [0.2       ],\n",
       "         [0.19607843],\n",
       "         [0.10980392],\n",
       "         [0.6784314 ],\n",
       "         [0.21568628],\n",
       "         [0.22352941],\n",
       "         [0.17254902],\n",
       "         [0.24705882],\n",
       "         [0.20392157],\n",
       "         [0.27058825],\n",
       "         [0.2627451 ],\n",
       "         [0.2       ],\n",
       "         [0.40392157],\n",
       "         [0.89411765],\n",
       "         [0.9882353 ],\n",
       "         [0.89411765],\n",
       "         [0.8862745 ],\n",
       "         [0.8666667 ],\n",
       "         [0.9098039 ],\n",
       "         [0.8666667 ]],\n",
       "\n",
       "        [[0.83137256],\n",
       "         [0.8117647 ],\n",
       "         [0.79607844],\n",
       "         [0.9254902 ],\n",
       "         [0.2901961 ],\n",
       "         [0.29411766],\n",
       "         [0.19607843],\n",
       "         [0.09803922],\n",
       "         [0.25490198],\n",
       "         [0.12941177],\n",
       "         [0.18431373],\n",
       "         [0.13333334],\n",
       "         [0.10980392],\n",
       "         [0.20784314],\n",
       "         [0.28627452],\n",
       "         [0.19607843],\n",
       "         [0.18431373],\n",
       "         [0.1254902 ],\n",
       "         [0.23137255],\n",
       "         [0.3019608 ],\n",
       "         [0.99607843],\n",
       "         [0.8666667 ],\n",
       "         [0.8862745 ],\n",
       "         [0.8392157 ],\n",
       "         [0.88235295],\n",
       "         [0.8509804 ],\n",
       "         [0.85490197],\n",
       "         [0.8980392 ]],\n",
       "\n",
       "        [[0.77254903],\n",
       "         [0.87058824],\n",
       "         [0.7764706 ],\n",
       "         [0.80784315],\n",
       "         [0.2784314 ],\n",
       "         [0.24705882],\n",
       "         [0.27450982],\n",
       "         [0.13333334],\n",
       "         [0.13725491],\n",
       "         [0.09019608],\n",
       "         [0.25490198],\n",
       "         [0.12941177],\n",
       "         [0.18431373],\n",
       "         [0.14509805],\n",
       "         [0.1882353 ],\n",
       "         [0.2       ],\n",
       "         [0.14509805],\n",
       "         [0.12941177],\n",
       "         [0.25490198],\n",
       "         [0.9490196 ],\n",
       "         [0.85490197],\n",
       "         [0.87058824],\n",
       "         [0.8666667 ],\n",
       "         [0.85882354],\n",
       "         [0.85490197],\n",
       "         [0.8666667 ],\n",
       "         [0.85490197],\n",
       "         [0.8666667 ]],\n",
       "\n",
       "        [[0.85882354],\n",
       "         [0.8       ],\n",
       "         [0.7764706 ],\n",
       "         [0.7647059 ],\n",
       "         [0.29411766],\n",
       "         [0.25490198],\n",
       "         [0.3137255 ],\n",
       "         [0.28627452],\n",
       "         [0.09411765],\n",
       "         [0.21176471],\n",
       "         [0.25882354],\n",
       "         [0.14509805],\n",
       "         [0.16470589],\n",
       "         [0.15686275],\n",
       "         [0.09411765],\n",
       "         [0.24313726],\n",
       "         [0.3254902 ],\n",
       "         [0.2784314 ],\n",
       "         [0.3647059 ],\n",
       "         [0.7921569 ],\n",
       "         [0.95686275],\n",
       "         [0.87058824],\n",
       "         [0.8745098 ],\n",
       "         [0.84313726],\n",
       "         [0.8392157 ],\n",
       "         [0.827451  ],\n",
       "         [0.87058824],\n",
       "         [0.8509804 ]],\n",
       "\n",
       "        [[0.9019608 ],\n",
       "         [0.8509804 ],\n",
       "         [0.80784315],\n",
       "         [0.7411765 ],\n",
       "         [0.8117647 ],\n",
       "         [0.2       ],\n",
       "         [0.25882354],\n",
       "         [0.9764706 ],\n",
       "         [0.654902  ],\n",
       "         [0.09019608],\n",
       "         [0.10588235],\n",
       "         [0.21176471],\n",
       "         [0.21960784],\n",
       "         [0.13725491],\n",
       "         [0.1254902 ],\n",
       "         [0.19215687],\n",
       "         [0.19215687],\n",
       "         [0.22745098],\n",
       "         [0.99215686],\n",
       "         [0.78039217],\n",
       "         [0.81960785],\n",
       "         [0.8862745 ],\n",
       "         [0.8745098 ],\n",
       "         [0.8509804 ],\n",
       "         [0.8235294 ],\n",
       "         [0.85882354],\n",
       "         [0.8352941 ],\n",
       "         [0.83137256]],\n",
       "\n",
       "        [[0.85490197],\n",
       "         [0.7764706 ],\n",
       "         [0.7921569 ],\n",
       "         [0.79607844],\n",
       "         [0.6745098 ],\n",
       "         [0.7647059 ],\n",
       "         [0.76862746],\n",
       "         [0.654902  ],\n",
       "         [0.24313726],\n",
       "         [0.19607843],\n",
       "         [0.14509805],\n",
       "         [0.10980392],\n",
       "         [0.11764706],\n",
       "         [0.2627451 ],\n",
       "         [0.10588235],\n",
       "         [0.18039216],\n",
       "         [0.29411766],\n",
       "         [0.21960784],\n",
       "         [0.85882354],\n",
       "         [0.8627451 ],\n",
       "         [0.81960785],\n",
       "         [0.85882354],\n",
       "         [0.8352941 ],\n",
       "         [0.81960785],\n",
       "         [0.8392157 ],\n",
       "         [0.8509804 ],\n",
       "         [0.80784315],\n",
       "         [0.8156863 ]],\n",
       "\n",
       "        [[0.7882353 ],\n",
       "         [0.7921569 ],\n",
       "         [0.85882354],\n",
       "         [0.7921569 ],\n",
       "         [0.7764706 ],\n",
       "         [0.7490196 ],\n",
       "         [0.7058824 ],\n",
       "         [0.67058825],\n",
       "         [0.30980393],\n",
       "         [0.27450982],\n",
       "         [0.17254902],\n",
       "         [0.12156863],\n",
       "         [0.15686275],\n",
       "         [0.24313726],\n",
       "         [0.28627452],\n",
       "         [0.24705882],\n",
       "         [0.1254902 ],\n",
       "         [0.972549  ],\n",
       "         [0.83137256],\n",
       "         [0.84705883],\n",
       "         [0.8509804 ],\n",
       "         [0.8392157 ],\n",
       "         [0.8352941 ],\n",
       "         [0.8156863 ],\n",
       "         [0.81960785],\n",
       "         [0.80784315],\n",
       "         [0.8235294 ],\n",
       "         [0.78039217]],\n",
       "\n",
       "        [[0.8117647 ],\n",
       "         [0.81960785],\n",
       "         [0.84705883],\n",
       "         [0.8156863 ],\n",
       "         [0.84313726],\n",
       "         [0.7882353 ],\n",
       "         [0.75686276],\n",
       "         [0.93333334],\n",
       "         [0.19215687],\n",
       "         [0.2784314 ],\n",
       "         [0.22352941],\n",
       "         [0.16078432],\n",
       "         [0.14117648],\n",
       "         [0.2627451 ],\n",
       "         [0.10980392],\n",
       "         [0.19607843],\n",
       "         [0.9254902 ],\n",
       "         [0.80784315],\n",
       "         [0.8392157 ],\n",
       "         [0.84705883],\n",
       "         [0.84313726],\n",
       "         [0.8235294 ],\n",
       "         [0.80784315],\n",
       "         [0.7921569 ],\n",
       "         [0.8156863 ],\n",
       "         [0.79607844],\n",
       "         [0.78039217],\n",
       "         [0.7764706 ]],\n",
       "\n",
       "        [[0.827451  ],\n",
       "         [0.81960785],\n",
       "         [0.84705883],\n",
       "         [0.8352941 ],\n",
       "         [0.84313726],\n",
       "         [0.79607844],\n",
       "         [0.75686276],\n",
       "         [0.8784314 ],\n",
       "         [0.27058825],\n",
       "         [0.2509804 ],\n",
       "         [0.25882354],\n",
       "         [0.19607843],\n",
       "         [0.12941177],\n",
       "         [0.10588235],\n",
       "         [0.19607843],\n",
       "         [0.1882353 ],\n",
       "         [0.91764706],\n",
       "         [0.8627451 ],\n",
       "         [0.87058824],\n",
       "         [0.8980392 ],\n",
       "         [0.85490197],\n",
       "         [0.8666667 ],\n",
       "         [0.84705883],\n",
       "         [0.84705883],\n",
       "         [0.8117647 ],\n",
       "         [0.8156863 ],\n",
       "         [0.7921569 ],\n",
       "         [0.8117647 ]],\n",
       "\n",
       "        [[0.8156863 ],\n",
       "         [0.827451  ],\n",
       "         [0.8       ],\n",
       "         [0.8117647 ],\n",
       "         [0.8039216 ],\n",
       "         [0.8117647 ],\n",
       "         [0.7921569 ],\n",
       "         [0.6901961 ],\n",
       "         [0.24313726],\n",
       "         [0.27058825],\n",
       "         [0.29411766],\n",
       "         [0.2509804 ],\n",
       "         [0.22745098],\n",
       "         [0.19215687],\n",
       "         [0.16862746],\n",
       "         [0.92941177],\n",
       "         [0.8392157 ],\n",
       "         [0.9019608 ],\n",
       "         [0.85882354],\n",
       "         [0.8666667 ],\n",
       "         [0.85882354],\n",
       "         [0.8509804 ],\n",
       "         [0.84705883],\n",
       "         [0.8352941 ],\n",
       "         [0.8       ],\n",
       "         [0.83137256],\n",
       "         [0.827451  ],\n",
       "         [0.8156863 ]],\n",
       "\n",
       "        [[0.8117647 ],\n",
       "         [0.8235294 ],\n",
       "         [0.8392157 ],\n",
       "         [0.8235294 ],\n",
       "         [0.85490197],\n",
       "         [0.8235294 ],\n",
       "         [0.78039217],\n",
       "         [0.7490196 ],\n",
       "         [0.75686276],\n",
       "         [0.8392157 ],\n",
       "         [0.3019608 ],\n",
       "         [0.30588236],\n",
       "         [0.25882354],\n",
       "         [0.90588236],\n",
       "         [0.88235295],\n",
       "         [0.77254903],\n",
       "         [0.87058824],\n",
       "         [0.8980392 ],\n",
       "         [0.84313726],\n",
       "         [0.84705883],\n",
       "         [0.84705883],\n",
       "         [0.85882354],\n",
       "         [0.84313726],\n",
       "         [0.8352941 ],\n",
       "         [0.8117647 ],\n",
       "         [0.80784315],\n",
       "         [0.8156863 ],\n",
       "         [0.8       ]],\n",
       "\n",
       "        [[0.7882353 ],\n",
       "         [0.81960785],\n",
       "         [0.8392157 ],\n",
       "         [0.80784315],\n",
       "         [0.8156863 ],\n",
       "         [0.8156863 ],\n",
       "         [0.8156863 ],\n",
       "         [0.7647059 ],\n",
       "         [0.7372549 ],\n",
       "         [0.6       ],\n",
       "         [0.8156863 ],\n",
       "         [0.83137256],\n",
       "         [0.8352941 ],\n",
       "         [0.6627451 ],\n",
       "         [0.78431374],\n",
       "         [0.8509804 ],\n",
       "         [0.84313726],\n",
       "         [0.8509804 ],\n",
       "         [0.84313726],\n",
       "         [0.8901961 ],\n",
       "         [0.8392157 ],\n",
       "         [0.8745098 ],\n",
       "         [0.9137255 ],\n",
       "         [0.81960785],\n",
       "         [0.8156863 ],\n",
       "         [0.79607844],\n",
       "         [0.8039216 ],\n",
       "         [0.80784315]],\n",
       "\n",
       "        [[0.80784315],\n",
       "         [0.79607844],\n",
       "         [0.83137256],\n",
       "         [0.8039216 ],\n",
       "         [0.7882353 ],\n",
       "         [0.79607844],\n",
       "         [0.78039217],\n",
       "         [0.8156863 ],\n",
       "         [0.75686276],\n",
       "         [0.7176471 ],\n",
       "         [0.7372549 ],\n",
       "         [0.7294118 ],\n",
       "         [0.79607844],\n",
       "         [0.7921569 ],\n",
       "         [0.7764706 ],\n",
       "         [0.89411765],\n",
       "         [0.88235295],\n",
       "         [0.8666667 ],\n",
       "         [0.827451  ],\n",
       "         [0.84313726],\n",
       "         [0.8235294 ],\n",
       "         [0.8235294 ],\n",
       "         [0.8117647 ],\n",
       "         [0.85882354],\n",
       "         [0.81960785],\n",
       "         [0.7921569 ],\n",
       "         [0.8039216 ],\n",
       "         [0.8039216 ]],\n",
       "\n",
       "        [[0.8235294 ],\n",
       "         [0.8       ],\n",
       "         [0.75686276],\n",
       "         [0.8156863 ],\n",
       "         [0.83137256],\n",
       "         [0.8392157 ],\n",
       "         [0.79607844],\n",
       "         [0.84705883],\n",
       "         [0.84705883],\n",
       "         [0.81960785],\n",
       "         [0.8235294 ],\n",
       "         [0.8392157 ],\n",
       "         [0.8156863 ],\n",
       "         [0.8156863 ],\n",
       "         [0.8235294 ],\n",
       "         [0.78431374],\n",
       "         [0.85490197],\n",
       "         [0.8352941 ],\n",
       "         [0.81960785],\n",
       "         [0.81960785],\n",
       "         [0.8117647 ],\n",
       "         [0.7921569 ],\n",
       "         [0.8156863 ],\n",
       "         [0.8       ],\n",
       "         [0.7921569 ],\n",
       "         [0.8       ],\n",
       "         [0.77254903],\n",
       "         [0.78039217]],\n",
       "\n",
       "        [[0.8509804 ],\n",
       "         [0.80784315],\n",
       "         [0.81960785],\n",
       "         [0.81960785],\n",
       "         [0.84313726],\n",
       "         [0.8156863 ],\n",
       "         [0.8156863 ],\n",
       "         [0.84705883],\n",
       "         [0.8862745 ],\n",
       "         [0.88235295],\n",
       "         [0.8392157 ],\n",
       "         [0.8235294 ],\n",
       "         [0.8627451 ],\n",
       "         [0.87058824],\n",
       "         [0.8117647 ],\n",
       "         [0.827451  ],\n",
       "         [0.8039216 ],\n",
       "         [0.8235294 ],\n",
       "         [0.81960785],\n",
       "         [0.81960785],\n",
       "         [0.81960785],\n",
       "         [0.8039216 ],\n",
       "         [0.78431374],\n",
       "         [0.8039216 ],\n",
       "         [0.7921569 ],\n",
       "         [0.76862746],\n",
       "         [0.7411765 ],\n",
       "         [0.7411765 ]]]], dtype=float32)"
      ]
     },
     "execution_count": 92,
     "metadata": {},
     "output_type": "execute_result"
    }
   ],
   "source": [
    "plt.imshow(img2.reshape(28,28,1), cmap='gray')"
   ]
  },
  {
   "cell_type": "code",
   "execution_count": 96,
   "metadata": {},
   "outputs": [],
   "source": []
  },
  {
   "cell_type": "code",
   "execution_count": 98,
   "metadata": {},
   "outputs": [
    {
     "data": {
      "text/plain": [
       "<matplotlib.image.AxesImage at 0x21c926ceb80>"
      ]
     },
     "execution_count": 98,
     "metadata": {},
     "output_type": "execute_result"
    },
    {
     "data": {
      "image/png": "[encoded data removed]",
      "text/plain": [
       "<Figure size 432x288 with 1 Axes>"
      ]
     },
     "metadata": {
      "needs_background": "light"
     },
     "output_type": "display_data"
    }
   ],
   "source": [
    "plt.imshow(img2.reshape(28,28,1), cmap='gray')"
   ]
  },
  {
   "cell_type": "code",
   "execution_count": 101,
   "metadata": {},
   "outputs": [
    {
     "data": {
      "text/plain": [
       "'Dress'"
      ]
     },
     "execution_count": 101,
     "metadata": {},
     "output_type": "execute_result"
    }
   ],
   "source": [
    "class_names[np.argmax(model.predict(img2), axis=-1)[0]]"
   ]
  },
  {
   "cell_type": "code",
   "execution_count": null,
   "metadata": {},
   "outputs": [],
   "source": []
  }
 ],
 "metadata": {
  "interpreter": {
   "hash": "5a7368ff7cdc52ddb5e44bf63afdf6ce6b912e649d48978d8b3edeb8bc60b54e"
  },
  "kernelspec": {
   "display_name": "Python 3.8.11 ('ai-env')",
   "language": "python",
   "name": "python3"
  },
  "language_info": {
   "codemirror_mode": {
    "name": "ipython",
    "version": 3
   },
   "file_extension": ".py",
   "mimetype": "text/x-python",
   "name": "python",
   "nbconvert_exporter": "python",
   "pygments_lexer": "ipython3",
   "version": "3.8.11"
  },
  "orig_nbformat": 4
 },
 "nbformat": 4,
 "nbformat_minor": 2
}
