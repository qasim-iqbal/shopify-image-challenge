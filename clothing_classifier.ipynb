{
 "cells": [
  {
   "cell_type": "markdown",
   "metadata": {},
   "source": [
    "# Clothing Fashion Model"
   ]
  },
  {
   "cell_type": "markdown",
   "metadata": {},
   "source": [
    "The purpose of this notebook is to create a classification model for different clothing items. The open-source image dataset used for training the classifier on is from github alexygrigorev -> https://github.com/alexeygrigorev/clothing-dataset. I had tried Fashion minst dataset, it was easy to work with and had good test set accuracy but it did not adapt well to real world images, so I found a dataset with higher quality images with normal backgrounds rather than transparent and cropped images"
   ]
  },
  {
   "cell_type": "code",
   "execution_count": 1,
   "metadata": {},
   "outputs": [
    {
     "name": "stderr",
     "output_type": "stream",
     "text": [
      "C:\\Users\\Qasim\\AppData\\Local\\Temp/ipykernel_25460/1477486942.py:19: DeprecationWarning: `import kerastuner` is deprecated, please use `import keras_tuner`.\n",
      "  import kerastuner as kt\n"
     ]
    }
   ],
   "source": [
    "# base libraries for manipulating data\n",
    "import pandas as pd\n",
    "import numpy as np\n",
    "import matplotlib.pyplot as plt\n",
    "\n",
    "# to modify images\n",
    "from PIL import Image\n",
    "\n",
    "from sklearn.model_selection import train_test_split\n",
    "\n",
    "# for model fitting\n",
    "import tensorflow as tf\n",
    "import tensorflow_hub as hub\n",
    "\n",
    "from keras.preprocessing.image import load_img\n",
    "from keras.preprocessing.image import img_to_array\n",
    "\n",
    "# finding best hypter parameters for the conv2d model\n",
    "import kerastuner as kt\n",
    "\n",
    "import time\n",
    "import pprint\n",
    "\n",
    "# to oversample some images for better class distribution\n",
    "from imblearn.over_sampling import RandomOverSampler\n",
    "from keras.preprocessing.image import ImageDataGenerator\n",
    "from skimage import transform\n",
    "\n",
    "import random\n"
   ]
  },
  {
   "cell_type": "markdown",
   "metadata": {},
   "source": [
    "## Data Input"
   ]
  },
  {
   "cell_type": "code",
   "execution_count": 54,
   "metadata": {},
   "outputs": [],
   "source": [
    "dataset_path = \"..\\clothing-dataset\\images.csv\"\n",
    "dataset = pd.read_csv(dataset_path)"
   ]
  },
  {
   "cell_type": "code",
   "execution_count": 55,
   "metadata": {},
   "outputs": [
    {
     "data": {
      "text/html": [
       "<div>\n",
       "<style scoped>\n",
       "    .dataframe tbody tr th:only-of-type {\n",
       "        vertical-align: middle;\n",
       "    }\n",
       "\n",
       "    .dataframe tbody tr th {\n",
       "        vertical-align: top;\n",
       "    }\n",
       "\n",
       "    .dataframe thead th {\n",
       "        text-align: right;\n",
       "    }\n",
       "</style>\n",
       "<table border=\"1\" class=\"dataframe\">\n",
       "  <thead>\n",
       "    <tr style=\"text-align: right;\">\n",
       "      <th></th>\n",
       "      <th>image</th>\n",
       "      <th>sender_id</th>\n",
       "      <th>label</th>\n",
       "      <th>kids</th>\n",
       "    </tr>\n",
       "  </thead>\n",
       "  <tbody>\n",
       "    <tr>\n",
       "      <th>0</th>\n",
       "      <td>4285fab0-751a-4b74-8e9b-43af05deee22</td>\n",
       "      <td>124</td>\n",
       "      <td>Not sure</td>\n",
       "      <td>False</td>\n",
       "    </tr>\n",
       "    <tr>\n",
       "      <th>1</th>\n",
       "      <td>ea7b6656-3f84-4eb3-9099-23e623fc1018</td>\n",
       "      <td>148</td>\n",
       "      <td>T-Shirt</td>\n",
       "      <td>False</td>\n",
       "    </tr>\n",
       "    <tr>\n",
       "      <th>2</th>\n",
       "      <td>00627a3f-0477-401c-95eb-92642cbe078d</td>\n",
       "      <td>94</td>\n",
       "      <td>Not sure</td>\n",
       "      <td>False</td>\n",
       "    </tr>\n",
       "    <tr>\n",
       "      <th>3</th>\n",
       "      <td>ea2ffd4d-9b25-4ca8-9dc2-bd27f1cc59fa</td>\n",
       "      <td>43</td>\n",
       "      <td>T-Shirt</td>\n",
       "      <td>False</td>\n",
       "    </tr>\n",
       "    <tr>\n",
       "      <th>4</th>\n",
       "      <td>3b86d877-2b9e-4c8b-a6a2-1d87513309d0</td>\n",
       "      <td>189</td>\n",
       "      <td>Shoes</td>\n",
       "      <td>False</td>\n",
       "    </tr>\n",
       "  </tbody>\n",
       "</table>\n",
       "</div>"
      ],
      "text/plain": [
       "                                  image  sender_id     label   kids\n",
       "0  4285fab0-751a-4b74-8e9b-43af05deee22        124  Not sure  False\n",
       "1  ea7b6656-3f84-4eb3-9099-23e623fc1018        148   T-Shirt  False\n",
       "2  00627a3f-0477-401c-95eb-92642cbe078d         94  Not sure  False\n",
       "3  ea2ffd4d-9b25-4ca8-9dc2-bd27f1cc59fa         43   T-Shirt  False\n",
       "4  3b86d877-2b9e-4c8b-a6a2-1d87513309d0        189     Shoes  False"
      ]
     },
     "execution_count": 55,
     "metadata": {},
     "output_type": "execute_result"
    }
   ],
   "source": [
    "dataset.head()"
   ]
  },
  {
   "cell_type": "markdown",
   "metadata": {},
   "source": [
    "The data directory contains the csv shown above and images stored as .jpg. Each name in the 'image' column corresponds to the image in the images directory"
   ]
  },
  {
   "cell_type": "code",
   "execution_count": 56,
   "metadata": {},
   "outputs": [],
   "source": [
    "# lets see the distribution of classes\n",
    "gb_categories = dataset.groupby('label').count()"
   ]
  },
  {
   "cell_type": "code",
   "execution_count": 57,
   "metadata": {},
   "outputs": [
    {
     "data": {
      "text/plain": [
       "<AxesSubplot:xlabel='label'>"
      ]
     },
     "execution_count": 57,
     "metadata": {},
     "output_type": "execute_result"
    },
    {
     "data": {
      "image/png": "[encoded data removed]",
      "text/plain": [
       "<Figure size 432x288 with 1 Axes>"
      ]
     },
     "metadata": {
      "needs_background": "light"
     },
     "output_type": "display_data"
    }
   ],
   "source": [
    "gb_categories['image'].plot.bar()"
   ]
  },
  {
   "cell_type": "markdown",
   "metadata": {},
   "source": [
    "We can quickly see that the distribution of records per class is not great. Most of the images are for T-shirts and a few in between and some such as skirt have very few records. In order to make a better classifer we need more balanced dataset of images"
   ]
  },
  {
   "cell_type": "code",
   "execution_count": 58,
   "metadata": {},
   "outputs": [
    {
     "data": {
      "text/html": [
       "<div>\n",
       "<style scoped>\n",
       "    .dataframe tbody tr th:only-of-type {\n",
       "        vertical-align: middle;\n",
       "    }\n",
       "\n",
       "    .dataframe tbody tr th {\n",
       "        vertical-align: top;\n",
       "    }\n",
       "\n",
       "    .dataframe thead th {\n",
       "        text-align: right;\n",
       "    }\n",
       "</style>\n",
       "<table border=\"1\" class=\"dataframe\">\n",
       "  <thead>\n",
       "    <tr style=\"text-align: right;\">\n",
       "      <th></th>\n",
       "      <th>image</th>\n",
       "      <th>sender_id</th>\n",
       "      <th>kids</th>\n",
       "    </tr>\n",
       "    <tr>\n",
       "      <th>label</th>\n",
       "      <th></th>\n",
       "      <th></th>\n",
       "      <th></th>\n",
       "    </tr>\n",
       "  </thead>\n",
       "  <tbody>\n",
       "    <tr>\n",
       "      <th>Dress</th>\n",
       "      <td>357</td>\n",
       "      <td>357</td>\n",
       "      <td>357</td>\n",
       "    </tr>\n",
       "    <tr>\n",
       "      <th>Longsleeve</th>\n",
       "      <td>699</td>\n",
       "      <td>699</td>\n",
       "      <td>699</td>\n",
       "    </tr>\n",
       "    <tr>\n",
       "      <th>Not sure</th>\n",
       "      <td>228</td>\n",
       "      <td>228</td>\n",
       "      <td>228</td>\n",
       "    </tr>\n",
       "    <tr>\n",
       "      <th>Outwear</th>\n",
       "      <td>312</td>\n",
       "      <td>312</td>\n",
       "      <td>312</td>\n",
       "    </tr>\n",
       "    <tr>\n",
       "      <th>Pants</th>\n",
       "      <td>692</td>\n",
       "      <td>692</td>\n",
       "      <td>692</td>\n",
       "    </tr>\n",
       "    <tr>\n",
       "      <th>Shirt</th>\n",
       "      <td>378</td>\n",
       "      <td>378</td>\n",
       "      <td>378</td>\n",
       "    </tr>\n",
       "    <tr>\n",
       "      <th>Shoes</th>\n",
       "      <td>431</td>\n",
       "      <td>431</td>\n",
       "      <td>431</td>\n",
       "    </tr>\n",
       "    <tr>\n",
       "      <th>Shorts</th>\n",
       "      <td>308</td>\n",
       "      <td>308</td>\n",
       "      <td>308</td>\n",
       "    </tr>\n",
       "    <tr>\n",
       "      <th>T-Shirt</th>\n",
       "      <td>1011</td>\n",
       "      <td>1011</td>\n",
       "      <td>1011</td>\n",
       "    </tr>\n",
       "  </tbody>\n",
       "</table>\n",
       "</div>"
      ],
      "text/plain": [
       "            image  sender_id  kids\n",
       "label                             \n",
       "Dress         357        357   357\n",
       "Longsleeve    699        699   699\n",
       "Not sure      228        228   228\n",
       "Outwear       312        312   312\n",
       "Pants         692        692   692\n",
       "Shirt         378        378   378\n",
       "Shoes         431        431   431\n",
       "Shorts        308        308   308\n",
       "T-Shirt      1011       1011  1011"
      ]
     },
     "execution_count": 58,
     "metadata": {},
     "output_type": "execute_result"
    }
   ],
   "source": [
    "# lets narrow down number of classes which have relatively high number of records, so when we upscale dataset we'll have a few more examples to build from\n",
    "gb_categories[gb_categories['image'] > 200]"
   ]
  },
  {
   "cell_type": "markdown",
   "metadata": {},
   "source": [
    "## Prepairing dataset"
   ]
  },
  {
   "cell_type": "code",
   "execution_count": 59,
   "metadata": {},
   "outputs": [],
   "source": [
    "# Chose a subset of classes with more data\n",
    "dict_labels = {'T-Shirt':0, 'Pants':1, 'Longsleeve':2, 'Dress':3, 'Shoes':4}\n",
    "lookup = {value: key for key, value in dict_labels.items()}"
   ]
  },
  {
   "cell_type": "code",
   "execution_count": 60,
   "metadata": {},
   "outputs": [],
   "source": [
    "# label encode the class names to prep data for training for tensorflow\n",
    "dataset = dataset.query(f\"label in {[*dict_labels]}\")"
   ]
  },
  {
   "cell_type": "code",
   "execution_count": 61,
   "metadata": {},
   "outputs": [
    {
     "name": "stderr",
     "output_type": "stream",
     "text": [
      "C:\\Users\\Qasim\\AppData\\Local\\Temp/ipykernel_25780/2490017833.py:3: SettingWithCopyWarning: \n",
      "A value is trying to be set on a copy of a slice from a DataFrame.\n",
      "Try using .loc[row_indexer,col_indexer] = value instead\n",
      "\n",
      "See the caveats in the documentation: https://pandas.pydata.org/pandas-docs/stable/user_guide/indexing.html#returning-a-view-versus-a-copy\n",
      "  df_main['y'] = df_main['label'].replace(dict_labels)\n"
     ]
    }
   ],
   "source": [
    "# taking the X as image and y as label for classification\n",
    "df_main = dataset[['image','label']]\n",
    "df_main['y'] = df_main['label'].replace(dict_labels)"
   ]
  },
  {
   "cell_type": "code",
   "execution_count": 62,
   "metadata": {},
   "outputs": [],
   "source": [
    "# add image path column next image names, so they are easy to extract into images\n",
    "df_main['img_path'] = df_main['image'].apply(lambda x: f\"../clothing-dataset/images/{x}.jpg\")"
   ]
  },
  {
   "cell_type": "code",
   "execution_count": 63,
   "metadata": {},
   "outputs": [],
   "source": [
    "# store images data in it\n",
    "dataset = []"
   ]
  },
  {
   "cell_type": "code",
   "execution_count": 64,
   "metadata": {},
   "outputs": [],
   "source": [
    "# params for image size\n",
    "img_w, img_h = 64, 64"
   ]
  },
  {
   "cell_type": "code",
   "execution_count": 65,
   "metadata": {},
   "outputs": [],
   "source": [
    "# load and prepare the image\n",
    "def load_image(filename):\n",
    "\t# load the image as grayscale\n",
    "\timg = load_img(filename, grayscale=True, target_size=(img_w,img_h))\n",
    "\t# convert to array\n",
    "\timg = img_to_array(img)\n",
    "\t# reshape into a single sample with 1 channel, as we don't need very high quality images for training \n",
    "\timg = img.reshape(img_w, img_h, 1)\n",
    "\t# prepare pixel data\n",
    "\timg = img.astype('float32')\n",
    "\timg = img / 255.0\n",
    "\treturn img"
   ]
  },
  {
   "cell_type": "code",
   "execution_count": 66,
   "metadata": {},
   "outputs": [
    {
     "name": "stderr",
     "output_type": "stream",
     "text": [
      "c:\\Users\\Qasim\\anaconda3\\envs\\ai-env\\lib\\site-packages\\keras_preprocessing\\image\\utils.py:107: UserWarning: grayscale is deprecated. Please use color_mode = \"grayscale\"\n",
      "  warnings.warn('grayscale is deprecated. Please use '\n"
     ]
    }
   ],
   "source": [
    "# read images from directory and save them in numpy array\n",
    "for i,r in df_main.iterrows():\n",
    "    try:\n",
    "        im = load_image(r['img_path'])\n",
    "        dataset.append([im,r['y']])\n",
    "    except:\n",
    "        print(f\"error img -> {r['img_path']}\")"
   ]
  },
  {
   "cell_type": "code",
   "execution_count": null,
   "metadata": {},
   "outputs": [],
   "source": []
  },
  {
   "cell_type": "code",
   "execution_count": 67,
   "metadata": {},
   "outputs": [
    {
     "name": "stderr",
     "output_type": "stream",
     "text": [
      "C:\\Users\\Qasim\\AppData\\Local\\Temp/ipykernel_25780/1372529306.py:2: VisibleDeprecationWarning: Creating an ndarray from ragged nested sequences (which is a list-or-tuple of lists-or-tuples-or ndarrays with different lengths or shapes) is deprecated. If you meant to do this, you must specify 'dtype=object' when creating the ndarray\n",
      "  dataset = np.array(dataset)\n"
     ]
    }
   ],
   "source": [
    "# read the dataset as numpy array\n",
    "dataset = np.array(dataset)"
   ]
  },
  {
   "cell_type": "code",
   "execution_count": 68,
   "metadata": {},
   "outputs": [
    {
     "data": {
      "text/plain": [
       "(3190, 2)"
      ]
     },
     "execution_count": 68,
     "metadata": {},
     "output_type": "execute_result"
    }
   ],
   "source": [
    "# current dataset with images\n",
    "dataset.shape"
   ]
  },
  {
   "cell_type": "code",
   "execution_count": 69,
   "metadata": {},
   "outputs": [],
   "source": [
    "# convert to right data type as errors show up for incorrect type in model building\n",
    "X = np.stack(dataset[:,0]).astype('float32')\n",
    "y = dataset[:,1].astype('uint8')"
   ]
  },
  {
   "cell_type": "markdown",
   "metadata": {},
   "source": [
    "## Upsample images dataset using random sample library"
   ]
  },
  {
   "cell_type": "code",
   "execution_count": 70,
   "metadata": {},
   "outputs": [],
   "source": [
    "# reshape dataset to prepare for upsampling, it will allow us to have more even distribution of images for each class\n",
    "reshaped_X = X.reshape(X.shape[0],-1)\n",
    "\n",
    "#oversampling\n",
    "oversample = RandomOverSampler()\n",
    "oversampled_X, oversampled_y  = oversample.fit_resample(reshaped_X , y)\n",
    "\n",
    "# reshaping X back to the first dims\n",
    "X = oversampled_X.reshape(-1,img_w,img_h,1)\n",
    "y = oversampled_y"
   ]
  },
  {
   "cell_type": "code",
   "execution_count": 71,
   "metadata": {},
   "outputs": [
    {
     "data": {
      "text/plain": [
       "(5055, 64, 64, 1)"
      ]
     },
     "execution_count": 71,
     "metadata": {},
     "output_type": "execute_result"
    }
   ],
   "source": [
    "# we can already see that we have goo amount of images \n",
    "X.shape"
   ]
  },
  {
   "cell_type": "code",
   "execution_count": 72,
   "metadata": {},
   "outputs": [
    {
     "data": {
      "text/plain": [
       "Counter({0: 1011, 4: 1011, 1: 1011, 3: 1011, 2: 1011})"
      ]
     },
     "execution_count": 72,
     "metadata": {},
     "output_type": "execute_result"
    }
   ],
   "source": [
    "from collections import Counter\n",
    "\n",
    "Counter(y)\n",
    "# we can see all classes have same amount of images, most probably duplicaed"
   ]
  },
  {
   "cell_type": "markdown",
   "metadata": {},
   "source": [
    "## Apply image augmentation on upsampled dataset of images"
   ]
  },
  {
   "cell_type": "code",
   "execution_count": 73,
   "metadata": {},
   "outputs": [],
   "source": [
    "# now we apply rotation and flips on image to have more divers set of images for training\n",
    "angles = [-90,90]\n",
    "def applyRotaion(img):\n",
    "    rand_choice = random.choice([0,1])\n",
    "    img = transform.rotate(img,angle=angles[rand_choice])\n",
    "    if rand_choice == 0:\n",
    "        img = np.fliplr(img)\n",
    "    else:\n",
    "        img= np.flipud(img)\n",
    "    return img\n",
    "\n",
    "# randomly rotate images to add a bit of diversity to images that have been duplicated to upscale data\n",
    "for i in range(len(X)):\n",
    "    X[i] = applyRotaion(X[i])"
   ]
  },
  {
   "cell_type": "code",
   "execution_count": 74,
   "metadata": {},
   "outputs": [
    {
     "data": {
      "image/png": "[encoded data removed]",
      "text/plain": [
       "<Figure size 432x288 with 9 Axes>"
      ]
     },
     "metadata": {
      "needs_background": "light"
     },
     "output_type": "display_data"
    }
   ],
   "source": [
    "# visualize the dataset\n",
    "fig, axs = plt.subplots(3,3)\n",
    "\n",
    "counter_ = 0\n",
    "for i in range(3):\n",
    "    for j in range(3):\n",
    "        axs[i,j].imshow(X[counter_])\n",
    "        counter_+=1"
   ]
  },
  {
   "cell_type": "code",
   "execution_count": 38,
   "metadata": {},
   "outputs": [],
   "source": [
    "# set up train and test sets\n",
    "x_train, x_test, y_train, y_test = train_test_split(X,y, test_size=0.05, random_state=42)"
   ]
  },
  {
   "cell_type": "code",
   "execution_count": 39,
   "metadata": {},
   "outputs": [
    {
     "data": {
      "text/plain": [
       "(4802, 64, 64, 1)"
      ]
     },
     "execution_count": 39,
     "metadata": {},
     "output_type": "execute_result"
    }
   ],
   "source": [
    "x_train.shape"
   ]
  },
  {
   "cell_type": "markdown",
   "metadata": {},
   "source": [
    "## Setting Model Paramters"
   ]
  },
  {
   "cell_type": "code",
   "execution_count": 40,
   "metadata": {},
   "outputs": [],
   "source": [
    "# using function as we will pass it to keras tuner to find best hyper parameters for us and save that model\n",
    "def model(hp):\n",
    "    model = tf.keras.models.Sequential()\n",
    "    model.add(tf.keras.layers.Input((img_w, img_h,1)))\n",
    "\n",
    "    hp_fe_11 = hp.Int('filter_exp_11', min_value=3, max_value=7, step=1)\n",
    "    hp_fe_12 = hp.Int('filter_exp_12', min_value=3, max_value=7, step=1)\n",
    "    hp_fs_11 = hp.Int('filter_size_11',  min_value=2, max_value=6, step=1)\n",
    "    hp_fs_12 = hp.Int('filter_size_12',  min_value=2, max_value=6, step=1)\n",
    "    hp_mps_1 = hp.Int('max_pool_size_1', min_value=2, max_value=6, step=1)\n",
    "\n",
    "    model.add(tf.keras.layers.Conv2D(2**hp_fe_11, hp_fs_11, padding='same', activation='relu'))\n",
    "    model.add(tf.keras.layers.Conv2D(2**hp_fe_12, hp_fs_12, padding='same', activation='relu'))\n",
    "    model.add(tf.keras.layers.MaxPooling2D(hp_mps_1))\n",
    "    model.add(tf.keras.layers.Dropout(0.2))\n",
    "\n",
    "    hp_dense_exp_1 = hp.Int('dense_exp_1', min_value=5, max_value=9, step=1)\n",
    "    model.add(tf.keras.layers.Flatten())\n",
    "    model.add(tf.keras.layers.Dense(units=2**hp_dense_exp_1, activation='relu'))\n",
    "    model.add(tf.keras.layers.Dropout(0.2))\n",
    "    model.add(tf.keras.layers.Dense(5, activation='softmax'))\n",
    "\n",
    "    model.compile(optimizer=tf.keras.optimizers.Adam(),\n",
    "                    loss=tf.keras.losses.SparseCategoricalCrossentropy(from_logits=True),\n",
    "                    metrics=['accuracy'])\n",
    "\n",
    "    return model"
   ]
  },
  {
   "cell_type": "code",
   "execution_count": 41,
   "metadata": {},
   "outputs": [],
   "source": [
    "# We used Keras Tuner, to find the best hyperparameters for our models\n",
    "def model_tuner(model_builder, dir):\n",
    "\n",
    "    tuner = kt.Hyperband(model_builder,\n",
    "                        objective='val_accuracy',\n",
    "                        max_epochs=10,\n",
    "                        factor=3)\n",
    "\n",
    "    early_stopping = tf.keras.callbacks.EarlyStopping(monitor='val_accuracy', patience=5, restore_best_weights=True)\n",
    "\n",
    "    tuner.search(x_train, y_train, validation_split=0.3, epochs=50, callbacks=[early_stopping])\n",
    "    best_hps=tuner.get_best_hyperparameters(num_trials=1)[0]\n",
    "\n",
    "    pp = pprint.PrettyPrinter(indent=1)\n",
    "    print(\"\\n-- Best Model Hyper params --\\n \")\n",
    "    pp.pprint(best_hps.values)\n",
    "\n",
    "    model = tuner.hypermodel.build(best_hps)\n",
    "\n",
    "    print(\"\\n-- Model Performance --\\n \")\n",
    "    \n",
    "\n",
    "    history = model.fit(x_train, y_train, epochs=50, callbacks=[early_stopping], validation_split=0.3, verbose=2)\n",
    "    score, acc = model.evaluate(x_test, y_test)\n",
    "    val_acc_per_epoch = history.history['val_accuracy']\n",
    "    best_epoch = val_acc_per_epoch.index(max(val_acc_per_epoch)) \n",
    "    print()\n",
    "    print('Best epoch  : %d' % (best_epoch,))\n",
    "    print(\"Best val acc: %s\" % (round(max(history.history['val_accuracy']), 4)))\n",
    "    print(\"    Test acc: %s\" % (round(acc, 4)))\n",
    "\n",
    "    return model"
   ]
  },
  {
   "cell_type": "code",
   "execution_count": 42,
   "metadata": {},
   "outputs": [
    {
     "name": "stdout",
     "output_type": "stream",
     "text": [
      "Trial 30 Complete [00h 00m 07s]\n",
      "val_accuracy: 0.8306731581687927\n",
      "\n",
      "Best val_accuracy So Far: 0.9070090055465698\n",
      "Total elapsed time: 00h 02m 16s\n",
      "INFO:tensorflow:Oracle triggered exit\n",
      "\n",
      "-- Best Model Hyper params --\n",
      " \n",
      "{'dense_exp_1': 7,\n",
      " 'filter_exp_11': 3,\n",
      " 'filter_exp_12': 6,\n",
      " 'filter_size_11': 3,\n",
      " 'filter_size_12': 5,\n",
      " 'max_pool_size_1': 6,\n",
      " 'tuner/bracket': 0,\n",
      " 'tuner/epochs': 10,\n",
      " 'tuner/initial_epoch': 0,\n",
      " 'tuner/round': 0}\n",
      "\n",
      "-- Model Performance --\n",
      " \n",
      "Epoch 1/50\n",
      "106/106 - 1s - loss: 1.2631 - accuracy: 0.5046 - val_loss: 0.8092 - val_accuracy: 0.7224\n",
      "Epoch 2/50\n",
      "106/106 - 1s - loss: 0.7011 - accuracy: 0.7465 - val_loss: 0.6243 - val_accuracy: 0.7967\n",
      "Epoch 3/50\n",
      "106/106 - 1s - loss: 0.5317 - accuracy: 0.8081 - val_loss: 0.5050 - val_accuracy: 0.8272\n",
      "Epoch 4/50\n",
      "106/106 - 1s - loss: 0.4282 - accuracy: 0.8489 - val_loss: 0.4639 - val_accuracy: 0.8314\n",
      "Epoch 5/50\n",
      "106/106 - 1s - loss: 0.3614 - accuracy: 0.8685 - val_loss: 0.4426 - val_accuracy: 0.8397\n",
      "Epoch 6/50\n",
      "106/106 - 1s - loss: 0.3530 - accuracy: 0.8780 - val_loss: 0.4179 - val_accuracy: 0.8668\n",
      "Epoch 7/50\n",
      "106/106 - 1s - loss: 0.2357 - accuracy: 0.9244 - val_loss: 0.3748 - val_accuracy: 0.8855\n",
      "Epoch 8/50\n",
      "106/106 - 1s - loss: 0.1786 - accuracy: 0.9378 - val_loss: 0.3417 - val_accuracy: 0.9028\n",
      "Epoch 9/50\n",
      "106/106 - 1s - loss: 0.1501 - accuracy: 0.9503 - val_loss: 0.3794 - val_accuracy: 0.8959\n",
      "Epoch 10/50\n",
      "106/106 - 1s - loss: 0.1324 - accuracy: 0.9548 - val_loss: 0.3348 - val_accuracy: 0.8980\n",
      "Epoch 11/50\n",
      "106/106 - 1s - loss: 0.1036 - accuracy: 0.9658 - val_loss: 0.3536 - val_accuracy: 0.9028\n",
      "Epoch 12/50\n",
      "106/106 - 1s - loss: 0.0924 - accuracy: 0.9705 - val_loss: 0.3743 - val_accuracy: 0.9049\n",
      "Epoch 13/50\n",
      "106/106 - 1s - loss: 0.0744 - accuracy: 0.9783 - val_loss: 0.3975 - val_accuracy: 0.9070\n",
      "Epoch 14/50\n",
      "106/106 - 1s - loss: 0.0681 - accuracy: 0.9804 - val_loss: 0.3758 - val_accuracy: 0.9133\n",
      "Epoch 15/50\n",
      "106/106 - 1s - loss: 0.0520 - accuracy: 0.9863 - val_loss: 0.3742 - val_accuracy: 0.9084\n",
      "Epoch 16/50\n",
      "106/106 - 1s - loss: 0.0467 - accuracy: 0.9863 - val_loss: 0.3774 - val_accuracy: 0.9202\n",
      "Epoch 17/50\n",
      "106/106 - 1s - loss: 0.0465 - accuracy: 0.9854 - val_loss: 0.4302 - val_accuracy: 0.9084\n",
      "Epoch 18/50\n",
      "106/106 - 1s - loss: 0.0508 - accuracy: 0.9845 - val_loss: 0.4410 - val_accuracy: 0.9098\n",
      "Epoch 19/50\n",
      "106/106 - 1s - loss: 0.0326 - accuracy: 0.9908 - val_loss: 0.4516 - val_accuracy: 0.9049\n",
      "Epoch 20/50\n",
      "106/106 - 1s - loss: 0.0300 - accuracy: 0.9917 - val_loss: 0.4112 - val_accuracy: 0.9139\n",
      "Epoch 21/50\n",
      "106/106 - 1s - loss: 0.0304 - accuracy: 0.9914 - val_loss: 0.3999 - val_accuracy: 0.9181\n",
      "8/8 [==============================] - 0s 9ms/step - loss: 0.5389 - accuracy: 0.8893\n",
      "\n",
      "Best epoch  : 15\n",
      "Best val acc: 0.9202\n",
      "    Test acc: 0.8893\n"
     ]
    }
   ],
   "source": [
    "trained_model = model_tuner(model, 'model')"
   ]
  },
  {
   "cell_type": "code",
   "execution_count": 43,
   "metadata": {},
   "outputs": [
    {
     "name": "stdout",
     "output_type": "stream",
     "text": [
      "Model: \"sequential_1\"\n",
      "_________________________________________________________________\n",
      "Layer (type)                 Output Shape              Param #   \n",
      "=================================================================\n",
      "conv2d_2 (Conv2D)            (None, 64, 64, 8)         80        \n",
      "_________________________________________________________________\n",
      "conv2d_3 (Conv2D)            (None, 64, 64, 64)        12864     \n",
      "_________________________________________________________________\n",
      "max_pooling2d_1 (MaxPooling2 (None, 10, 10, 64)        0         \n",
      "_________________________________________________________________\n",
      "dropout_2 (Dropout)          (None, 10, 10, 64)        0         \n",
      "_________________________________________________________________\n",
      "flatten_1 (Flatten)          (None, 6400)              0         \n",
      "_________________________________________________________________\n",
      "dense_2 (Dense)              (None, 128)               819328    \n",
      "_________________________________________________________________\n",
      "dropout_3 (Dropout)          (None, 128)               0         \n",
      "_________________________________________________________________\n",
      "dense_3 (Dense)              (None, 5)                 645       \n",
      "=================================================================\n",
      "Total params: 832,917\n",
      "Trainable params: 832,917\n",
      "Non-trainable params: 0\n",
      "_________________________________________________________________\n"
     ]
    }
   ],
   "source": [
    "trained_model.summary()"
   ]
  },
  {
   "cell_type": "code",
   "execution_count": 44,
   "metadata": {},
   "outputs": [],
   "source": [
    "# save the best model\n",
    "trained_model.save('best_model.h5')"
   ]
  },
  {
   "cell_type": "code",
   "execution_count": 3,
   "metadata": {},
   "outputs": [],
   "source": [
    "model = tf.keras.models.load_model('./best_model.h5')"
   ]
  },
  {
   "cell_type": "code",
   "execution_count": 46,
   "metadata": {},
   "outputs": [
    {
     "name": "stderr",
     "output_type": "stream",
     "text": [
      "c:\\Users\\Qasim\\anaconda3\\envs\\ai-env\\lib\\site-packages\\keras_preprocessing\\image\\utils.py:107: UserWarning: grayscale is deprecated. Please use color_mode = \"grayscale\"\n",
      "  warnings.warn('grayscale is deprecated. Please use '\n"
     ]
    }
   ],
   "source": [
    "# take some random image online and test model\n",
    "test_img = load_image('static\\images\\photo-1542291026-7eec264c27ff.jpg')"
   ]
  },
  {
   "cell_type": "code",
   "execution_count": 47,
   "metadata": {},
   "outputs": [
    {
     "data": {
      "text/plain": [
       "<matplotlib.image.AxesImage at 0x2025ae73400>"
      ]
     },
     "execution_count": 47,
     "metadata": {},
     "output_type": "execute_result"
    },
    {
     "data": {
      "image/png": "[encoded data removed]",
      "text/plain": [
       "<Figure size 432x288 with 1 Axes>"
      ]
     },
     "metadata": {
      "needs_background": "light"
     },
     "output_type": "display_data"
    }
   ],
   "source": [
    "plt.imshow(test_img)"
   ]
  },
  {
   "cell_type": "code",
   "execution_count": 48,
   "metadata": {},
   "outputs": [
    {
     "data": {
      "text/plain": [
       "'Shoes'"
      ]
     },
     "execution_count": 48,
     "metadata": {},
     "output_type": "execute_result"
    }
   ],
   "source": [
    "# it classifes it correctly\n",
    "lookup[np.argmax(model.predict(test_img.reshape(1,64,64,1)))]"
   ]
  },
  {
   "cell_type": "code",
   "execution_count": 49,
   "metadata": {},
   "outputs": [],
   "source": [
    "img = load_image('../clothing-dataset/unknown.png')"
   ]
  },
  {
   "cell_type": "code",
   "execution_count": 50,
   "metadata": {},
   "outputs": [
    {
     "data": {
      "text/plain": [
       "<matplotlib.image.AxesImage at 0x2025adea280>"
      ]
     },
     "execution_count": 50,
     "metadata": {},
     "output_type": "execute_result"
    },
    {
     "data": {
      "image/png": "[encoded data removed]",
      "text/plain": [
       "<Figure size 432x288 with 1 Axes>"
      ]
     },
     "metadata": {
      "needs_background": "light"
     },
     "output_type": "display_data"
    }
   ],
   "source": [
    "plt.imshow(img)"
   ]
  },
  {
   "cell_type": "code",
   "execution_count": 51,
   "metadata": {},
   "outputs": [
    {
     "data": {
      "text/plain": [
       "'Pants'"
      ]
     },
     "execution_count": 51,
     "metadata": {},
     "output_type": "execute_result"
    }
   ],
   "source": [
    "lookup[np.argmax(model.predict(img.reshape(1,64,64,1)))]"
   ]
  },
  {
   "cell_type": "code",
   "execution_count": 2,
   "metadata": {},
   "outputs": [],
   "source": [
    "file_path = 'static\\images\\pexels-photo.webp'"
   ]
  },
  {
   "cell_type": "code",
   "execution_count": 4,
   "metadata": {},
   "outputs": [
    {
     "name": "stderr",
     "output_type": "stream",
     "text": [
      "c:\\Users\\Qasim\\anaconda3\\envs\\ai-env\\lib\\site-packages\\keras_preprocessing\\image\\utils.py:107: UserWarning: grayscale is deprecated. Please use color_mode = \"grayscale\"\n",
      "  warnings.warn('grayscale is deprecated. Please use '\n"
     ]
    }
   ],
   "source": [
    "img_w, img_h = 64,64\n",
    "\n",
    "# load the image as grayscale\n",
    "img = load_img(file_path, grayscale=True, target_size=(img_w,img_h))\n",
    "# convert to array\n",
    "img = img_to_array(img)\n",
    "# reshape into a single sample with 1 channel, as we don't need very high quality images for training \n",
    "img = img.reshape(img_w, img_h, 1)\n",
    "# prepare pixel data\n",
    "img = img.astype('float32')\n",
    "img = img / 255.0\n"
   ]
  },
  {
   "cell_type": "code",
   "execution_count": 5,
   "metadata": {},
   "outputs": [
    {
     "data": {
      "text/plain": [
       "<matplotlib.image.AxesImage at 0x2a957ca3ca0>"
      ]
     },
     "execution_count": 5,
     "metadata": {},
     "output_type": "execute_result"
    },
    {
     "data": {
      "image/png": "[encoded data removed]",
      "text/plain": [
       "<Figure size 432x288 with 1 Axes>"
      ]
     },
     "metadata": {
      "needs_background": "light"
     },
     "output_type": "display_data"
    }
   ],
   "source": [
    "plt.imshow(img)"
   ]
  },
  {
   "cell_type": "code",
   "execution_count": 7,
   "metadata": {},
   "outputs": [
    {
     "data": {
      "text/plain": [
       "(64, 64, 1)"
      ]
     },
     "execution_count": 7,
     "metadata": {},
     "output_type": "execute_result"
    }
   ],
   "source": [
    "img.shape"
   ]
  },
  {
   "cell_type": "code",
   "execution_count": 8,
   "metadata": {},
   "outputs": [],
   "source": [
    "\n",
    "# make prediction\n",
    "# pred = model.predict(img.reshape(1,64,64,1))"
   ]
  },
  {
   "cell_type": "code",
   "execution_count": null,
   "metadata": {},
   "outputs": [],
   "source": []
  }
 ],
 "metadata": {
  "interpreter": {
   "hash": "5a7368ff7cdc52ddb5e44bf63afdf6ce6b912e649d48978d8b3edeb8bc60b54e"
  },
  "kernelspec": {
   "display_name": "Python 3.8.11 ('ai-env')",
   "language": "python",
   "name": "python3"
  },
  "language_info": {
   "codemirror_mode": {
    "name": "ipython",
    "version": 3
   },
   "file_extension": ".py",
   "mimetype": "text/x-python",
   "name": "python",
   "nbconvert_exporter": "python",
   "pygments_lexer": "ipython3",
   "version": "3.8.11"
  },
  "orig_nbformat": 4
 },
 "nbformat": 4,
 "nbformat_minor": 2
}
